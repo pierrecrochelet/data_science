{
 "cells": [
  {
   "cell_type": "code",
   "execution_count": 1,
   "id": "a73d81bb",
   "metadata": {},
   "outputs": [],
   "source": [
    "import pandas as pd\n",
    "import numpy as np\n",
    "from matplotlib import pyplot as plt\n",
    "import seaborn as sns"
   ]
  },
  {
   "cell_type": "markdown",
   "id": "c53a10cc",
   "metadata": {},
   "source": [
    "This is useful for sklearn not to get too many warnings (shouldn't use if you don't know what you're doing)."
   ]
  },
  {
   "cell_type": "code",
   "execution_count": 2,
   "id": "e93700fc",
   "metadata": {},
   "outputs": [],
   "source": [
    "def warn(*args, **kwargs):\n",
    "    pass\n",
    "import warnings\n",
    "warnings.warn = warn"
   ]
  },
  {
   "cell_type": "markdown",
   "id": "658f808f",
   "metadata": {},
   "source": [
    "### Load the files"
   ]
  },
  {
   "cell_type": "code",
   "execution_count": 3,
   "id": "2568c8c5",
   "metadata": {},
   "outputs": [],
   "source": [
    "train_df = pd.read_csv(\"train.csv\")\n",
    "test_df = pd.read_csv(\"test.csv\")"
   ]
  },
  {
   "cell_type": "markdown",
   "id": "ac820541",
   "metadata": {},
   "source": [
    "### Get information on datasets"
   ]
  },
  {
   "cell_type": "code",
   "execution_count": 4,
   "id": "719020cf",
   "metadata": {
    "scrolled": false
   },
   "outputs": [
    {
     "data": {
      "text/html": [
       "<div>\n",
       "<style scoped>\n",
       "    .dataframe tbody tr th:only-of-type {\n",
       "        vertical-align: middle;\n",
       "    }\n",
       "\n",
       "    .dataframe tbody tr th {\n",
       "        vertical-align: top;\n",
       "    }\n",
       "\n",
       "    .dataframe thead th {\n",
       "        text-align: right;\n",
       "    }\n",
       "</style>\n",
       "<table border=\"1\" class=\"dataframe\">\n",
       "  <thead>\n",
       "    <tr style=\"text-align: right;\">\n",
       "      <th></th>\n",
       "      <th>PassengerId</th>\n",
       "      <th>Survived</th>\n",
       "      <th>Pclass</th>\n",
       "      <th>Name</th>\n",
       "      <th>Sex</th>\n",
       "      <th>Age</th>\n",
       "      <th>SibSp</th>\n",
       "      <th>Parch</th>\n",
       "      <th>Ticket</th>\n",
       "      <th>Fare</th>\n",
       "      <th>Cabin</th>\n",
       "      <th>Embarked</th>\n",
       "    </tr>\n",
       "  </thead>\n",
       "  <tbody>\n",
       "    <tr>\n",
       "      <th>0</th>\n",
       "      <td>1</td>\n",
       "      <td>0</td>\n",
       "      <td>3</td>\n",
       "      <td>Braund, Mr. Owen Harris</td>\n",
       "      <td>male</td>\n",
       "      <td>22.0</td>\n",
       "      <td>1</td>\n",
       "      <td>0</td>\n",
       "      <td>A/5 21171</td>\n",
       "      <td>7.2500</td>\n",
       "      <td>NaN</td>\n",
       "      <td>S</td>\n",
       "    </tr>\n",
       "    <tr>\n",
       "      <th>1</th>\n",
       "      <td>2</td>\n",
       "      <td>1</td>\n",
       "      <td>1</td>\n",
       "      <td>Cumings, Mrs. John Bradley (Florence Briggs Th...</td>\n",
       "      <td>female</td>\n",
       "      <td>38.0</td>\n",
       "      <td>1</td>\n",
       "      <td>0</td>\n",
       "      <td>PC 17599</td>\n",
       "      <td>71.2833</td>\n",
       "      <td>C85</td>\n",
       "      <td>C</td>\n",
       "    </tr>\n",
       "    <tr>\n",
       "      <th>2</th>\n",
       "      <td>3</td>\n",
       "      <td>1</td>\n",
       "      <td>3</td>\n",
       "      <td>Heikkinen, Miss. Laina</td>\n",
       "      <td>female</td>\n",
       "      <td>26.0</td>\n",
       "      <td>0</td>\n",
       "      <td>0</td>\n",
       "      <td>STON/O2. 3101282</td>\n",
       "      <td>7.9250</td>\n",
       "      <td>NaN</td>\n",
       "      <td>S</td>\n",
       "    </tr>\n",
       "    <tr>\n",
       "      <th>3</th>\n",
       "      <td>4</td>\n",
       "      <td>1</td>\n",
       "      <td>1</td>\n",
       "      <td>Futrelle, Mrs. Jacques Heath (Lily May Peel)</td>\n",
       "      <td>female</td>\n",
       "      <td>35.0</td>\n",
       "      <td>1</td>\n",
       "      <td>0</td>\n",
       "      <td>113803</td>\n",
       "      <td>53.1000</td>\n",
       "      <td>C123</td>\n",
       "      <td>S</td>\n",
       "    </tr>\n",
       "    <tr>\n",
       "      <th>4</th>\n",
       "      <td>5</td>\n",
       "      <td>0</td>\n",
       "      <td>3</td>\n",
       "      <td>Allen, Mr. William Henry</td>\n",
       "      <td>male</td>\n",
       "      <td>35.0</td>\n",
       "      <td>0</td>\n",
       "      <td>0</td>\n",
       "      <td>373450</td>\n",
       "      <td>8.0500</td>\n",
       "      <td>NaN</td>\n",
       "      <td>S</td>\n",
       "    </tr>\n",
       "  </tbody>\n",
       "</table>\n",
       "</div>"
      ],
      "text/plain": [
       "   PassengerId  Survived  Pclass  \\\n",
       "0            1         0       3   \n",
       "1            2         1       1   \n",
       "2            3         1       3   \n",
       "3            4         1       1   \n",
       "4            5         0       3   \n",
       "\n",
       "                                                Name     Sex   Age  SibSp  \\\n",
       "0                            Braund, Mr. Owen Harris    male  22.0      1   \n",
       "1  Cumings, Mrs. John Bradley (Florence Briggs Th...  female  38.0      1   \n",
       "2                             Heikkinen, Miss. Laina  female  26.0      0   \n",
       "3       Futrelle, Mrs. Jacques Heath (Lily May Peel)  female  35.0      1   \n",
       "4                           Allen, Mr. William Henry    male  35.0      0   \n",
       "\n",
       "   Parch            Ticket     Fare Cabin Embarked  \n",
       "0      0         A/5 21171   7.2500   NaN        S  \n",
       "1      0          PC 17599  71.2833   C85        C  \n",
       "2      0  STON/O2. 3101282   7.9250   NaN        S  \n",
       "3      0            113803  53.1000  C123        S  \n",
       "4      0            373450   8.0500   NaN        S  "
      ]
     },
     "execution_count": 4,
     "metadata": {},
     "output_type": "execute_result"
    }
   ],
   "source": [
    "train_df.head()"
   ]
  },
  {
   "cell_type": "code",
   "execution_count": 5,
   "id": "91f88b9c",
   "metadata": {},
   "outputs": [
    {
     "name": "stdout",
     "output_type": "stream",
     "text": [
      "<class 'pandas.core.frame.DataFrame'>\n",
      "RangeIndex: 891 entries, 0 to 890\n",
      "Data columns (total 12 columns):\n",
      " #   Column       Non-Null Count  Dtype  \n",
      "---  ------       --------------  -----  \n",
      " 0   PassengerId  891 non-null    int64  \n",
      " 1   Survived     891 non-null    int64  \n",
      " 2   Pclass       891 non-null    int64  \n",
      " 3   Name         891 non-null    object \n",
      " 4   Sex          891 non-null    object \n",
      " 5   Age          714 non-null    float64\n",
      " 6   SibSp        891 non-null    int64  \n",
      " 7   Parch        891 non-null    int64  \n",
      " 8   Ticket       891 non-null    object \n",
      " 9   Fare         891 non-null    float64\n",
      " 10  Cabin        204 non-null    object \n",
      " 11  Embarked     889 non-null    object \n",
      "dtypes: float64(2), int64(5), object(5)\n",
      "memory usage: 83.7+ KB\n"
     ]
    }
   ],
   "source": [
    "train_df.info()"
   ]
  },
  {
   "cell_type": "code",
   "execution_count": 6,
   "id": "9b4750d5",
   "metadata": {
    "scrolled": false
   },
   "outputs": [
    {
     "data": {
      "text/html": [
       "<div>\n",
       "<style scoped>\n",
       "    .dataframe tbody tr th:only-of-type {\n",
       "        vertical-align: middle;\n",
       "    }\n",
       "\n",
       "    .dataframe tbody tr th {\n",
       "        vertical-align: top;\n",
       "    }\n",
       "\n",
       "    .dataframe thead th {\n",
       "        text-align: right;\n",
       "    }\n",
       "</style>\n",
       "<table border=\"1\" class=\"dataframe\">\n",
       "  <thead>\n",
       "    <tr style=\"text-align: right;\">\n",
       "      <th></th>\n",
       "      <th>PassengerId</th>\n",
       "      <th>Pclass</th>\n",
       "      <th>Name</th>\n",
       "      <th>Sex</th>\n",
       "      <th>Age</th>\n",
       "      <th>SibSp</th>\n",
       "      <th>Parch</th>\n",
       "      <th>Ticket</th>\n",
       "      <th>Fare</th>\n",
       "      <th>Cabin</th>\n",
       "      <th>Embarked</th>\n",
       "    </tr>\n",
       "  </thead>\n",
       "  <tbody>\n",
       "    <tr>\n",
       "      <th>0</th>\n",
       "      <td>892</td>\n",
       "      <td>3</td>\n",
       "      <td>Kelly, Mr. James</td>\n",
       "      <td>male</td>\n",
       "      <td>34.5</td>\n",
       "      <td>0</td>\n",
       "      <td>0</td>\n",
       "      <td>330911</td>\n",
       "      <td>7.8292</td>\n",
       "      <td>NaN</td>\n",
       "      <td>Q</td>\n",
       "    </tr>\n",
       "    <tr>\n",
       "      <th>1</th>\n",
       "      <td>893</td>\n",
       "      <td>3</td>\n",
       "      <td>Wilkes, Mrs. James (Ellen Needs)</td>\n",
       "      <td>female</td>\n",
       "      <td>47.0</td>\n",
       "      <td>1</td>\n",
       "      <td>0</td>\n",
       "      <td>363272</td>\n",
       "      <td>7.0000</td>\n",
       "      <td>NaN</td>\n",
       "      <td>S</td>\n",
       "    </tr>\n",
       "    <tr>\n",
       "      <th>2</th>\n",
       "      <td>894</td>\n",
       "      <td>2</td>\n",
       "      <td>Myles, Mr. Thomas Francis</td>\n",
       "      <td>male</td>\n",
       "      <td>62.0</td>\n",
       "      <td>0</td>\n",
       "      <td>0</td>\n",
       "      <td>240276</td>\n",
       "      <td>9.6875</td>\n",
       "      <td>NaN</td>\n",
       "      <td>Q</td>\n",
       "    </tr>\n",
       "    <tr>\n",
       "      <th>3</th>\n",
       "      <td>895</td>\n",
       "      <td>3</td>\n",
       "      <td>Wirz, Mr. Albert</td>\n",
       "      <td>male</td>\n",
       "      <td>27.0</td>\n",
       "      <td>0</td>\n",
       "      <td>0</td>\n",
       "      <td>315154</td>\n",
       "      <td>8.6625</td>\n",
       "      <td>NaN</td>\n",
       "      <td>S</td>\n",
       "    </tr>\n",
       "    <tr>\n",
       "      <th>4</th>\n",
       "      <td>896</td>\n",
       "      <td>3</td>\n",
       "      <td>Hirvonen, Mrs. Alexander (Helga E Lindqvist)</td>\n",
       "      <td>female</td>\n",
       "      <td>22.0</td>\n",
       "      <td>1</td>\n",
       "      <td>1</td>\n",
       "      <td>3101298</td>\n",
       "      <td>12.2875</td>\n",
       "      <td>NaN</td>\n",
       "      <td>S</td>\n",
       "    </tr>\n",
       "  </tbody>\n",
       "</table>\n",
       "</div>"
      ],
      "text/plain": [
       "   PassengerId  Pclass                                          Name     Sex  \\\n",
       "0          892       3                              Kelly, Mr. James    male   \n",
       "1          893       3              Wilkes, Mrs. James (Ellen Needs)  female   \n",
       "2          894       2                     Myles, Mr. Thomas Francis    male   \n",
       "3          895       3                              Wirz, Mr. Albert    male   \n",
       "4          896       3  Hirvonen, Mrs. Alexander (Helga E Lindqvist)  female   \n",
       "\n",
       "    Age  SibSp  Parch   Ticket     Fare Cabin Embarked  \n",
       "0  34.5      0      0   330911   7.8292   NaN        Q  \n",
       "1  47.0      1      0   363272   7.0000   NaN        S  \n",
       "2  62.0      0      0   240276   9.6875   NaN        Q  \n",
       "3  27.0      0      0   315154   8.6625   NaN        S  \n",
       "4  22.0      1      1  3101298  12.2875   NaN        S  "
      ]
     },
     "execution_count": 6,
     "metadata": {},
     "output_type": "execute_result"
    }
   ],
   "source": [
    "test_df.head()"
   ]
  },
  {
   "cell_type": "code",
   "execution_count": 7,
   "id": "5570aecf",
   "metadata": {
    "scrolled": false
   },
   "outputs": [
    {
     "name": "stdout",
     "output_type": "stream",
     "text": [
      "<class 'pandas.core.frame.DataFrame'>\n",
      "RangeIndex: 418 entries, 0 to 417\n",
      "Data columns (total 11 columns):\n",
      " #   Column       Non-Null Count  Dtype  \n",
      "---  ------       --------------  -----  \n",
      " 0   PassengerId  418 non-null    int64  \n",
      " 1   Pclass       418 non-null    int64  \n",
      " 2   Name         418 non-null    object \n",
      " 3   Sex          418 non-null    object \n",
      " 4   Age          332 non-null    float64\n",
      " 5   SibSp        418 non-null    int64  \n",
      " 6   Parch        418 non-null    int64  \n",
      " 7   Ticket       418 non-null    object \n",
      " 8   Fare         417 non-null    float64\n",
      " 9   Cabin        91 non-null     object \n",
      " 10  Embarked     418 non-null    object \n",
      "dtypes: float64(2), int64(4), object(5)\n",
      "memory usage: 36.0+ KB\n"
     ]
    }
   ],
   "source": [
    "test_df.info()"
   ]
  },
  {
   "cell_type": "markdown",
   "id": "beaa7d1f",
   "metadata": {},
   "source": [
    "There are some missing informations on the Age feature in both datasets (177 for train and 86 for test).<br/>\n",
    "There are some missing informations on the Fare feature in the test dataset (only 1 actually).<br/>\n",
    "There are some missing informations on the Cabin feature in both datasets (687 for train and 326 for test).<br/>\n",
    "There are some missing informations on the Embarked feature in the train dataset (2)."
   ]
  },
  {
   "cell_type": "markdown",
   "id": "c1f3e83b",
   "metadata": {},
   "source": [
    "This is also doable all at once with train_df.describe(include=\"all\") but a lot of NaN are in the output and I find it less readable."
   ]
  },
  {
   "cell_type": "code",
   "execution_count": 8,
   "id": "fbc23d69",
   "metadata": {},
   "outputs": [
    {
     "data": {
      "text/html": [
       "<div>\n",
       "<style scoped>\n",
       "    .dataframe tbody tr th:only-of-type {\n",
       "        vertical-align: middle;\n",
       "    }\n",
       "\n",
       "    .dataframe tbody tr th {\n",
       "        vertical-align: top;\n",
       "    }\n",
       "\n",
       "    .dataframe thead th {\n",
       "        text-align: right;\n",
       "    }\n",
       "</style>\n",
       "<table border=\"1\" class=\"dataframe\">\n",
       "  <thead>\n",
       "    <tr style=\"text-align: right;\">\n",
       "      <th></th>\n",
       "      <th>PassengerId</th>\n",
       "      <th>Survived</th>\n",
       "      <th>Pclass</th>\n",
       "      <th>Age</th>\n",
       "      <th>SibSp</th>\n",
       "      <th>Parch</th>\n",
       "      <th>Fare</th>\n",
       "    </tr>\n",
       "  </thead>\n",
       "  <tbody>\n",
       "    <tr>\n",
       "      <th>count</th>\n",
       "      <td>891.000000</td>\n",
       "      <td>891.000000</td>\n",
       "      <td>891.000000</td>\n",
       "      <td>714.000000</td>\n",
       "      <td>891.000000</td>\n",
       "      <td>891.000000</td>\n",
       "      <td>891.000000</td>\n",
       "    </tr>\n",
       "    <tr>\n",
       "      <th>mean</th>\n",
       "      <td>446.000000</td>\n",
       "      <td>0.383838</td>\n",
       "      <td>2.308642</td>\n",
       "      <td>29.699118</td>\n",
       "      <td>0.523008</td>\n",
       "      <td>0.381594</td>\n",
       "      <td>32.204208</td>\n",
       "    </tr>\n",
       "    <tr>\n",
       "      <th>std</th>\n",
       "      <td>257.353842</td>\n",
       "      <td>0.486592</td>\n",
       "      <td>0.836071</td>\n",
       "      <td>14.526497</td>\n",
       "      <td>1.102743</td>\n",
       "      <td>0.806057</td>\n",
       "      <td>49.693429</td>\n",
       "    </tr>\n",
       "    <tr>\n",
       "      <th>min</th>\n",
       "      <td>1.000000</td>\n",
       "      <td>0.000000</td>\n",
       "      <td>1.000000</td>\n",
       "      <td>0.420000</td>\n",
       "      <td>0.000000</td>\n",
       "      <td>0.000000</td>\n",
       "      <td>0.000000</td>\n",
       "    </tr>\n",
       "    <tr>\n",
       "      <th>25%</th>\n",
       "      <td>223.500000</td>\n",
       "      <td>0.000000</td>\n",
       "      <td>2.000000</td>\n",
       "      <td>20.125000</td>\n",
       "      <td>0.000000</td>\n",
       "      <td>0.000000</td>\n",
       "      <td>7.910400</td>\n",
       "    </tr>\n",
       "    <tr>\n",
       "      <th>50%</th>\n",
       "      <td>446.000000</td>\n",
       "      <td>0.000000</td>\n",
       "      <td>3.000000</td>\n",
       "      <td>28.000000</td>\n",
       "      <td>0.000000</td>\n",
       "      <td>0.000000</td>\n",
       "      <td>14.454200</td>\n",
       "    </tr>\n",
       "    <tr>\n",
       "      <th>75%</th>\n",
       "      <td>668.500000</td>\n",
       "      <td>1.000000</td>\n",
       "      <td>3.000000</td>\n",
       "      <td>38.000000</td>\n",
       "      <td>1.000000</td>\n",
       "      <td>0.000000</td>\n",
       "      <td>31.000000</td>\n",
       "    </tr>\n",
       "    <tr>\n",
       "      <th>max</th>\n",
       "      <td>891.000000</td>\n",
       "      <td>1.000000</td>\n",
       "      <td>3.000000</td>\n",
       "      <td>80.000000</td>\n",
       "      <td>8.000000</td>\n",
       "      <td>6.000000</td>\n",
       "      <td>512.329200</td>\n",
       "    </tr>\n",
       "  </tbody>\n",
       "</table>\n",
       "</div>"
      ],
      "text/plain": [
       "       PassengerId    Survived      Pclass         Age       SibSp  \\\n",
       "count   891.000000  891.000000  891.000000  714.000000  891.000000   \n",
       "mean    446.000000    0.383838    2.308642   29.699118    0.523008   \n",
       "std     257.353842    0.486592    0.836071   14.526497    1.102743   \n",
       "min       1.000000    0.000000    1.000000    0.420000    0.000000   \n",
       "25%     223.500000    0.000000    2.000000   20.125000    0.000000   \n",
       "50%     446.000000    0.000000    3.000000   28.000000    0.000000   \n",
       "75%     668.500000    1.000000    3.000000   38.000000    1.000000   \n",
       "max     891.000000    1.000000    3.000000   80.000000    8.000000   \n",
       "\n",
       "            Parch        Fare  \n",
       "count  891.000000  891.000000  \n",
       "mean     0.381594   32.204208  \n",
       "std      0.806057   49.693429  \n",
       "min      0.000000    0.000000  \n",
       "25%      0.000000    7.910400  \n",
       "50%      0.000000   14.454200  \n",
       "75%      0.000000   31.000000  \n",
       "max      6.000000  512.329200  "
      ]
     },
     "execution_count": 8,
     "metadata": {},
     "output_type": "execute_result"
    }
   ],
   "source": [
    "train_df.describe() # To get information on all data types except object"
   ]
  },
  {
   "cell_type": "code",
   "execution_count": 9,
   "id": "df3bb685",
   "metadata": {},
   "outputs": [
    {
     "data": {
      "text/html": [
       "<div>\n",
       "<style scoped>\n",
       "    .dataframe tbody tr th:only-of-type {\n",
       "        vertical-align: middle;\n",
       "    }\n",
       "\n",
       "    .dataframe tbody tr th {\n",
       "        vertical-align: top;\n",
       "    }\n",
       "\n",
       "    .dataframe thead th {\n",
       "        text-align: right;\n",
       "    }\n",
       "</style>\n",
       "<table border=\"1\" class=\"dataframe\">\n",
       "  <thead>\n",
       "    <tr style=\"text-align: right;\">\n",
       "      <th></th>\n",
       "      <th>Name</th>\n",
       "      <th>Sex</th>\n",
       "      <th>Ticket</th>\n",
       "      <th>Cabin</th>\n",
       "      <th>Embarked</th>\n",
       "    </tr>\n",
       "  </thead>\n",
       "  <tbody>\n",
       "    <tr>\n",
       "      <th>count</th>\n",
       "      <td>891</td>\n",
       "      <td>891</td>\n",
       "      <td>891</td>\n",
       "      <td>204</td>\n",
       "      <td>889</td>\n",
       "    </tr>\n",
       "    <tr>\n",
       "      <th>unique</th>\n",
       "      <td>891</td>\n",
       "      <td>2</td>\n",
       "      <td>681</td>\n",
       "      <td>147</td>\n",
       "      <td>3</td>\n",
       "    </tr>\n",
       "    <tr>\n",
       "      <th>top</th>\n",
       "      <td>Braund, Mr. Owen Harris</td>\n",
       "      <td>male</td>\n",
       "      <td>347082</td>\n",
       "      <td>B96 B98</td>\n",
       "      <td>S</td>\n",
       "    </tr>\n",
       "    <tr>\n",
       "      <th>freq</th>\n",
       "      <td>1</td>\n",
       "      <td>577</td>\n",
       "      <td>7</td>\n",
       "      <td>4</td>\n",
       "      <td>644</td>\n",
       "    </tr>\n",
       "  </tbody>\n",
       "</table>\n",
       "</div>"
      ],
      "text/plain": [
       "                           Name   Sex  Ticket    Cabin Embarked\n",
       "count                       891   891     891      204      889\n",
       "unique                      891     2     681      147        3\n",
       "top     Braund, Mr. Owen Harris  male  347082  B96 B98        S\n",
       "freq                          1   577       7        4      644"
      ]
     },
     "execution_count": 9,
     "metadata": {},
     "output_type": "execute_result"
    }
   ],
   "source": [
    "train_df.describe(include=['O']) # To get information on object data types"
   ]
  },
  {
   "cell_type": "markdown",
   "id": "5a1aa624",
   "metadata": {},
   "source": [
    "Training dataset is a bit imbalanced in that 38% of the people survived. <br/>\n",
    "Most people did not travel with parents/children (Parch) et few people travelled with siblings (SibSp). <br/>\n",
    "All passengers have unique names and there are more males than females (577 vs 314)"
   ]
  },
  {
   "cell_type": "markdown",
   "id": "91e13fc0",
   "metadata": {},
   "source": [
    "Seems like a good idea to drop the Cabin features as it is not present in many samples.<br/>\n",
    "PassengerID seems like it's not a useful feature to deduce survival and it has one different value for each sample. Same with the Name feature (though one may assume families were saved together and using some embedding on names might improve the prediction).<br/>\n",
    "Also, one may want to induce Age for the people who don't have one.<br/>"
   ]
  },
  {
   "cell_type": "markdown",
   "id": "f4a20fa1",
   "metadata": {},
   "source": [
    "### Look at correlations with objective"
   ]
  },
  {
   "cell_type": "code",
   "execution_count": 10,
   "id": "9b6281b2",
   "metadata": {},
   "outputs": [
    {
     "data": {
      "text/html": [
       "<div>\n",
       "<style scoped>\n",
       "    .dataframe tbody tr th:only-of-type {\n",
       "        vertical-align: middle;\n",
       "    }\n",
       "\n",
       "    .dataframe tbody tr th {\n",
       "        vertical-align: top;\n",
       "    }\n",
       "\n",
       "    .dataframe thead th {\n",
       "        text-align: right;\n",
       "    }\n",
       "</style>\n",
       "<table border=\"1\" class=\"dataframe\">\n",
       "  <thead>\n",
       "    <tr style=\"text-align: right;\">\n",
       "      <th></th>\n",
       "      <th>Pclass</th>\n",
       "      <th>Survived</th>\n",
       "    </tr>\n",
       "  </thead>\n",
       "  <tbody>\n",
       "    <tr>\n",
       "      <th>2</th>\n",
       "      <td>3</td>\n",
       "      <td>0.242363</td>\n",
       "    </tr>\n",
       "    <tr>\n",
       "      <th>1</th>\n",
       "      <td>2</td>\n",
       "      <td>0.472826</td>\n",
       "    </tr>\n",
       "    <tr>\n",
       "      <th>0</th>\n",
       "      <td>1</td>\n",
       "      <td>0.629630</td>\n",
       "    </tr>\n",
       "  </tbody>\n",
       "</table>\n",
       "</div>"
      ],
      "text/plain": [
       "   Pclass  Survived\n",
       "2       3  0.242363\n",
       "1       2  0.472826\n",
       "0       1  0.629630"
      ]
     },
     "execution_count": 10,
     "metadata": {},
     "output_type": "execute_result"
    }
   ],
   "source": [
    "train_df[['Pclass', 'Survived']].groupby(['Pclass'], as_index=False).mean().sort_values(by='Survived')"
   ]
  },
  {
   "cell_type": "markdown",
   "id": "9136eb30",
   "metadata": {},
   "source": [
    "The Pclass feature, representing the person's class is clearly correlated with the survival probability as upper-classed people had more chance to survive."
   ]
  },
  {
   "cell_type": "code",
   "execution_count": 11,
   "id": "7c863425",
   "metadata": {},
   "outputs": [
    {
     "data": {
      "text/html": [
       "<div>\n",
       "<style scoped>\n",
       "    .dataframe tbody tr th:only-of-type {\n",
       "        vertical-align: middle;\n",
       "    }\n",
       "\n",
       "    .dataframe tbody tr th {\n",
       "        vertical-align: top;\n",
       "    }\n",
       "\n",
       "    .dataframe thead th {\n",
       "        text-align: right;\n",
       "    }\n",
       "</style>\n",
       "<table border=\"1\" class=\"dataframe\">\n",
       "  <thead>\n",
       "    <tr style=\"text-align: right;\">\n",
       "      <th></th>\n",
       "      <th>Sex</th>\n",
       "      <th>Survived</th>\n",
       "    </tr>\n",
       "  </thead>\n",
       "  <tbody>\n",
       "    <tr>\n",
       "      <th>1</th>\n",
       "      <td>male</td>\n",
       "      <td>0.188908</td>\n",
       "    </tr>\n",
       "    <tr>\n",
       "      <th>0</th>\n",
       "      <td>female</td>\n",
       "      <td>0.742038</td>\n",
       "    </tr>\n",
       "  </tbody>\n",
       "</table>\n",
       "</div>"
      ],
      "text/plain": [
       "      Sex  Survived\n",
       "1    male  0.188908\n",
       "0  female  0.742038"
      ]
     },
     "execution_count": 11,
     "metadata": {},
     "output_type": "execute_result"
    }
   ],
   "source": [
    "train_df[[\"Sex\", \"Survived\"]].groupby(['Sex'], as_index=False).mean().sort_values(by='Survived')"
   ]
  },
  {
   "cell_type": "markdown",
   "id": "ccd697d3",
   "metadata": {},
   "source": [
    "The sex is also correlated with the survival as women were more likely to survive."
   ]
  },
  {
   "cell_type": "code",
   "execution_count": 12,
   "id": "ee97040a",
   "metadata": {},
   "outputs": [
    {
     "data": {
      "text/html": [
       "<div>\n",
       "<style scoped>\n",
       "    .dataframe tbody tr th:only-of-type {\n",
       "        vertical-align: middle;\n",
       "    }\n",
       "\n",
       "    .dataframe tbody tr th {\n",
       "        vertical-align: top;\n",
       "    }\n",
       "\n",
       "    .dataframe thead th {\n",
       "        text-align: right;\n",
       "    }\n",
       "</style>\n",
       "<table border=\"1\" class=\"dataframe\">\n",
       "  <thead>\n",
       "    <tr style=\"text-align: right;\">\n",
       "      <th></th>\n",
       "      <th>Parch</th>\n",
       "      <th>SibSp</th>\n",
       "      <th>Survived</th>\n",
       "    </tr>\n",
       "  </thead>\n",
       "  <tbody>\n",
       "    <tr>\n",
       "      <th>23</th>\n",
       "      <td>6</td>\n",
       "      <td>1</td>\n",
       "      <td>0.000000</td>\n",
       "    </tr>\n",
       "    <tr>\n",
       "      <th>21</th>\n",
       "      <td>5</td>\n",
       "      <td>0</td>\n",
       "      <td>0.000000</td>\n",
       "    </tr>\n",
       "    <tr>\n",
       "      <th>20</th>\n",
       "      <td>4</td>\n",
       "      <td>1</td>\n",
       "      <td>0.000000</td>\n",
       "    </tr>\n",
       "    <tr>\n",
       "      <th>19</th>\n",
       "      <td>4</td>\n",
       "      <td>0</td>\n",
       "      <td>0.000000</td>\n",
       "    </tr>\n",
       "    <tr>\n",
       "      <th>15</th>\n",
       "      <td>2</td>\n",
       "      <td>8</td>\n",
       "      <td>0.000000</td>\n",
       "    </tr>\n",
       "    <tr>\n",
       "      <th>14</th>\n",
       "      <td>2</td>\n",
       "      <td>5</td>\n",
       "      <td>0.000000</td>\n",
       "    </tr>\n",
       "    <tr>\n",
       "      <th>7</th>\n",
       "      <td>1</td>\n",
       "      <td>3</td>\n",
       "      <td>0.000000</td>\n",
       "    </tr>\n",
       "    <tr>\n",
       "      <th>8</th>\n",
       "      <td>1</td>\n",
       "      <td>4</td>\n",
       "      <td>0.000000</td>\n",
       "    </tr>\n",
       "    <tr>\n",
       "      <th>2</th>\n",
       "      <td>0</td>\n",
       "      <td>2</td>\n",
       "      <td>0.250000</td>\n",
       "    </tr>\n",
       "    <tr>\n",
       "      <th>12</th>\n",
       "      <td>2</td>\n",
       "      <td>3</td>\n",
       "      <td>0.285714</td>\n",
       "    </tr>\n",
       "    <tr>\n",
       "      <th>0</th>\n",
       "      <td>0</td>\n",
       "      <td>0</td>\n",
       "      <td>0.303538</td>\n",
       "    </tr>\n",
       "    <tr>\n",
       "      <th>22</th>\n",
       "      <td>5</td>\n",
       "      <td>1</td>\n",
       "      <td>0.333333</td>\n",
       "    </tr>\n",
       "    <tr>\n",
       "      <th>13</th>\n",
       "      <td>2</td>\n",
       "      <td>4</td>\n",
       "      <td>0.333333</td>\n",
       "    </tr>\n",
       "    <tr>\n",
       "      <th>17</th>\n",
       "      <td>3</td>\n",
       "      <td>1</td>\n",
       "      <td>0.333333</td>\n",
       "    </tr>\n",
       "    <tr>\n",
       "      <th>11</th>\n",
       "      <td>2</td>\n",
       "      <td>2</td>\n",
       "      <td>0.500000</td>\n",
       "    </tr>\n",
       "    <tr>\n",
       "      <th>1</th>\n",
       "      <td>0</td>\n",
       "      <td>1</td>\n",
       "      <td>0.520325</td>\n",
       "    </tr>\n",
       "    <tr>\n",
       "      <th>5</th>\n",
       "      <td>1</td>\n",
       "      <td>1</td>\n",
       "      <td>0.596491</td>\n",
       "    </tr>\n",
       "    <tr>\n",
       "      <th>10</th>\n",
       "      <td>2</td>\n",
       "      <td>1</td>\n",
       "      <td>0.631579</td>\n",
       "    </tr>\n",
       "    <tr>\n",
       "      <th>4</th>\n",
       "      <td>1</td>\n",
       "      <td>0</td>\n",
       "      <td>0.657895</td>\n",
       "    </tr>\n",
       "    <tr>\n",
       "      <th>9</th>\n",
       "      <td>2</td>\n",
       "      <td>0</td>\n",
       "      <td>0.724138</td>\n",
       "    </tr>\n",
       "    <tr>\n",
       "      <th>6</th>\n",
       "      <td>1</td>\n",
       "      <td>2</td>\n",
       "      <td>0.857143</td>\n",
       "    </tr>\n",
       "    <tr>\n",
       "      <th>16</th>\n",
       "      <td>3</td>\n",
       "      <td>0</td>\n",
       "      <td>1.000000</td>\n",
       "    </tr>\n",
       "    <tr>\n",
       "      <th>18</th>\n",
       "      <td>3</td>\n",
       "      <td>2</td>\n",
       "      <td>1.000000</td>\n",
       "    </tr>\n",
       "    <tr>\n",
       "      <th>3</th>\n",
       "      <td>0</td>\n",
       "      <td>3</td>\n",
       "      <td>1.000000</td>\n",
       "    </tr>\n",
       "  </tbody>\n",
       "</table>\n",
       "</div>"
      ],
      "text/plain": [
       "    Parch  SibSp  Survived\n",
       "23      6      1  0.000000\n",
       "21      5      0  0.000000\n",
       "20      4      1  0.000000\n",
       "19      4      0  0.000000\n",
       "15      2      8  0.000000\n",
       "14      2      5  0.000000\n",
       "7       1      3  0.000000\n",
       "8       1      4  0.000000\n",
       "2       0      2  0.250000\n",
       "12      2      3  0.285714\n",
       "0       0      0  0.303538\n",
       "22      5      1  0.333333\n",
       "13      2      4  0.333333\n",
       "17      3      1  0.333333\n",
       "11      2      2  0.500000\n",
       "1       0      1  0.520325\n",
       "5       1      1  0.596491\n",
       "10      2      1  0.631579\n",
       "4       1      0  0.657895\n",
       "9       2      0  0.724138\n",
       "6       1      2  0.857143\n",
       "16      3      0  1.000000\n",
       "18      3      2  1.000000\n",
       "3       0      3  1.000000"
      ]
     },
     "execution_count": 12,
     "metadata": {},
     "output_type": "execute_result"
    }
   ],
   "source": [
    "train_df[[\"Parch\", \"SibSp\", \"Survived\"]].groupby(['Parch', 'SibSp'], as_index=False).mean().sort_values(by='Survived')"
   ]
  },
  {
   "cell_type": "markdown",
   "id": "7f4c57a2",
   "metadata": {},
   "source": [
    "We see that a lot of combination of values have either 0% correlation of 100% correlation, therefore it could be nice to derive a feature using those two features."
   ]
  },
  {
   "cell_type": "code",
   "execution_count": 13,
   "id": "d6b13268",
   "metadata": {},
   "outputs": [
    {
     "data": {
      "image/png": "[encoded data removed]",
      "text/plain": [
       "<Figure size 1080x288 with 2 Axes>"
      ]
     },
     "metadata": {
      "needs_background": "light"
     },
     "output_type": "display_data"
    }
   ],
   "source": [
    "_, axes = plt.subplots(nrows=1, ncols=2, figsize=(15, 4))\n",
    "ax1 = axes[0]\n",
    "ax2 = axes[1]\n",
    "ax1.hist(train_df[[\"Age\"]][train_df[\"Survived\"]==0], bins=20)\n",
    "ax1.set_title(\"Survived=0\")\n",
    "ax1.set_xlim([-5, 85])\n",
    "ax1.set_ylim([0, 60])\n",
    "ax2.hist(train_df[[\"Age\"]][train_df[\"Survived\"]==1], bins=20)\n",
    "ax2.set_title(\"Survived=1\")\n",
    "ax2.set_xlim([-5, 85])\n",
    "ax2.set_ylim([0, 60])\n",
    "\n",
    "plt.show()"
   ]
  },
  {
   "cell_type": "markdown",
   "id": "62ffab49",
   "metadata": {},
   "source": [
    "We can see here that a lot of children were saved, compared to the young adults. This means there is a correlation between the age and the chance of survival. Therefore, it would be good to fill in the blanks in order to make the Age feature complete."
   ]
  },
  {
   "cell_type": "code",
   "execution_count": 14,
   "id": "8ebf74db",
   "metadata": {},
   "outputs": [
    {
     "data": {
      "image/png": "[encoded data removed]",
      "text/plain": [
       "<Figure size 1080x720 with 6 Axes>"
      ]
     },
     "metadata": {
      "needs_background": "light"
     },
     "output_type": "display_data"
    }
   ],
   "source": [
    "_, axes = plt.subplots(nrows=3, ncols=2, figsize=(15, 10))\n",
    "ax1 = axes[0, 0]\n",
    "ax2 = axes[0, 1]\n",
    "ax3 = axes[1, 0]\n",
    "ax4 = axes[1, 1]\n",
    "ax5 = axes[2, 0]\n",
    "ax6 = axes[2, 1]\n",
    "\n",
    "ax1.hist(train_df[[\"Age\"]][(train_df[\"Survived\"]==0) & (train_df[\"Pclass\"]==1)], bins=20)\n",
    "ax1.set_title(\"Pclass=1 && Survived=0\")\n",
    "ax1.set_xlim([-5, 85])\n",
    "ax1.set_ylim([0, 45])\n",
    "ax2.hist(train_df[[\"Age\"]][(train_df[\"Survived\"]==1) & (train_df[\"Pclass\"]==1)], bins=20)\n",
    "ax2.set_title(\"Pclass=1 && Survived=1\")\n",
    "ax2.set_xlim([-5, 85])\n",
    "ax2.set_ylim([0, 45])\n",
    "\n",
    "ax3.hist(train_df[[\"Age\"]][(train_df[\"Survived\"]==0) & (train_df[\"Pclass\"]==2)], bins=20)\n",
    "ax3.set_title(\"Pclass=2 && Survived=0\")\n",
    "ax3.set_xlim([-5, 85])\n",
    "ax3.set_ylim([0, 45])\n",
    "ax4.hist(train_df[[\"Age\"]][(train_df[\"Survived\"]==1) & (train_df[\"Pclass\"]==2)], bins=20)\n",
    "ax4.set_title(\"Pclass=2 && Survived=1\")\n",
    "ax4.set_xlim([-5, 85])\n",
    "ax4.set_ylim([0, 45])\n",
    "\n",
    "ax5.hist(train_df[[\"Age\"]][(train_df[\"Survived\"]==0) & (train_df[\"Pclass\"]==3)], bins=20)\n",
    "ax5.set_title(\"Pclass=3 && Survived=0\")\n",
    "ax5.set_xlim([-5, 85])\n",
    "ax5.set_ylim([0, 45])\n",
    "ax6.hist(train_df[[\"Age\"]][(train_df[\"Survived\"]==1) & (train_df[\"Pclass\"]==3)], bins=20)\n",
    "ax6.set_title(\"Pclass=3 && Survived=1\")\n",
    "ax6.set_xlim([-5, 85])\n",
    "ax6.set_ylim([0, 45])\n",
    "\n",
    "plt.show()"
   ]
  },
  {
   "cell_type": "markdown",
   "id": "b6b092af",
   "metadata": {},
   "source": [
    "We see that people that were in upper class (Pclass=1) were more likely to survive, meaning there is a correlation and Pclass is a feature worth using in the prediction."
   ]
  },
  {
   "cell_type": "code",
   "execution_count": 15,
   "id": "e86c3194",
   "metadata": {},
   "outputs": [
    {
     "data": {
      "image/png": "[encoded data removed]",
      "text/plain": [
       "<Figure size 1080x720 with 6 Axes>"
      ]
     },
     "metadata": {
      "needs_background": "light"
     },
     "output_type": "display_data"
    }
   ],
   "source": [
    "man_death_embarkation_S = ((train_df[\"Survived\"]==0) & (train_df[\"Embarked\"]==\"S\") & (train_df[\"Sex\"]==\"male\")).value_counts()[True]/((train_df[\"Embarked\"]==\"S\") & (train_df[\"Sex\"]==\"male\")).value_counts()[True]\n",
    "woman_death_embarkation_S = ((train_df[\"Survived\"]==0) & (train_df[\"Embarked\"]==\"S\") & (train_df[\"Sex\"]==\"female\")).value_counts()[True]/((train_df[\"Embarked\"]==\"S\") & (train_df[\"Sex\"]==\"female\")).value_counts()[True]\n",
    "man_survival_embarkation_S = ((train_df[\"Survived\"]==1) & (train_df[\"Embarked\"]==\"S\") & (train_df[\"Sex\"]==\"male\")).value_counts()[True]/((train_df[\"Embarked\"]==\"S\") & (train_df[\"Sex\"]==\"male\")).value_counts()[True]\n",
    "woman_survival_embarkation_S = ((train_df[\"Survived\"]==1) & (train_df[\"Embarked\"]==\"S\") & (train_df[\"Sex\"]==\"female\")).value_counts()[True]/((train_df[\"Embarked\"]==\"S\") & (train_df[\"Sex\"]==\"female\")).value_counts()[True]\n",
    "\n",
    "man_death_embarkation_C = ((train_df[\"Survived\"]==0) & (train_df[\"Embarked\"]==\"C\") & (train_df[\"Sex\"]==\"male\")).value_counts()[True]/((train_df[\"Embarked\"]==\"C\") & (train_df[\"Sex\"]==\"male\")).value_counts()[True]\n",
    "woman_death_embarkation_C = ((train_df[\"Survived\"]==0) & (train_df[\"Embarked\"]==\"C\") & (train_df[\"Sex\"]==\"female\")).value_counts()[True]/((train_df[\"Embarked\"]==\"C\") & (train_df[\"Sex\"]==\"female\")).value_counts()[True]\n",
    "man_survival_embarkation_C = ((train_df[\"Survived\"]==1) & (train_df[\"Embarked\"]==\"C\") & (train_df[\"Sex\"]==\"male\")).value_counts()[True]/((train_df[\"Embarked\"]==\"C\") & (train_df[\"Sex\"]==\"male\")).value_counts()[True]\n",
    "woman_survival_embarkation_C = ((train_df[\"Survived\"]==1) & (train_df[\"Embarked\"]==\"C\") & (train_df[\"Sex\"]==\"female\")).value_counts()[True]/((train_df[\"Embarked\"]==\"C\") & (train_df[\"Sex\"]==\"female\")).value_counts()[True]\n",
    "\n",
    "man_death_embarkation_Q = ((train_df[\"Survived\"]==0) & (train_df[\"Embarked\"]==\"Q\") & (train_df[\"Sex\"]==\"male\")).value_counts()[True]/((train_df[\"Embarked\"]==\"Q\") & (train_df[\"Sex\"]==\"male\")).value_counts()[True]\n",
    "woman_death_embarkation_Q = ((train_df[\"Survived\"]==0) & (train_df[\"Embarked\"]==\"Q\") & (train_df[\"Sex\"]==\"female\")).value_counts()[True]/((train_df[\"Embarked\"]==\"Q\") & (train_df[\"Sex\"]==\"female\")).value_counts()[True]\n",
    "man_survival_embarkation_Q = ((train_df[\"Survived\"]==1) & (train_df[\"Embarked\"]==\"Q\") & (train_df[\"Sex\"]==\"male\")).value_counts()[True]/((train_df[\"Embarked\"]==\"Q\") & (train_df[\"Sex\"]==\"male\")).value_counts()[True]\n",
    "woman_survival_embarkation_Q = ((train_df[\"Survived\"]==1) & (train_df[\"Embarked\"]==\"Q\") & (train_df[\"Sex\"]==\"female\")).value_counts()[True]/((train_df[\"Embarked\"]==\"Q\") & (train_df[\"Sex\"]==\"female\")).value_counts()[True]\n",
    "\n",
    "\n",
    "_, axes = plt.subplots(nrows=3, ncols=2, figsize=(15, 10))\n",
    "ax1 = axes[0, 0]\n",
    "ax2 = axes[0, 1]\n",
    "ax3 = axes[1, 0]\n",
    "ax4 = axes[1, 1]\n",
    "ax5 = axes[2, 0]\n",
    "ax6 = axes[2, 1]\n",
    "\n",
    "ax1.bar([\"male\", \"female\"], [man_death_embarkation_S, woman_death_embarkation_S])\n",
    "ax1.set_title(\"Embarked=S && Survived=0\")\n",
    "ax1.set_ylim([0, 1])\n",
    "ax2.bar([\"male\", \"female\"], [man_survival_embarkation_S, woman_survival_embarkation_S])\n",
    "ax2.set_title(\"Embarked=S && Survived=1\")\n",
    "ax2.set_ylim([0, 1])\n",
    "\n",
    "ax3.bar([\"male\", \"female\"], [man_death_embarkation_C, woman_death_embarkation_C])\n",
    "ax3.set_title(\"Embarked=C && Survived=0\")\n",
    "ax3.set_ylim([0, 1])\n",
    "ax4.bar([\"male\", \"female\"], [man_survival_embarkation_C, woman_survival_embarkation_C])\n",
    "ax4.set_title(\"Embarked=C && Survived=1\")\n",
    "ax4.set_ylim([0, 1])\n",
    "\n",
    "ax5.bar([\"male\", \"female\"], [man_death_embarkation_Q, woman_death_embarkation_Q])\n",
    "ax5.set_title(\"Embarked=Q && Survived=0\")\n",
    "ax5.set_ylim([0, 1])\n",
    "ax6.bar([\"male\", \"female\"], [man_survival_embarkation_Q, woman_survival_embarkation_Q])\n",
    "ax6.set_title(\"Embarked=Q && Survived=1\")\n",
    "ax6.set_ylim([0, 1])\n",
    "\n",
    "plt.show()"
   ]
  },
  {
   "cell_type": "markdown",
   "id": "32f486f8",
   "metadata": {},
   "source": [
    "We can see that women were more likely to survive than men. There might also be a correlation between the embarkation and the chance of survival as men who embarked in \"C\" were more likely to survive than men who embarked in \"Q\"."
   ]
  },
  {
   "cell_type": "markdown",
   "id": "2d7f778a",
   "metadata": {},
   "source": [
    "### Prepare the dataset for prediction\n",
    "The most simple way to deal with incomplete data is to drop it, here we'll drop the Cabin feature because it has a lot of missing values. <br />\n",
    "Also, we are going to drop the Ticket and the PassengerId features, because intuition says they are not linked to survival rate and, indeed, one has a different value for each passenger, and the second one has a lot of different still (681 different values for 891 samples). <br />\n",
    "However, we can't really drop the PassengerId the same way as the other two features because it is needed for the submission file. Therefore, it's kept in test_df but special care needs to be paid not to keep it when feeding data to the predictor."
   ]
  },
  {
   "cell_type": "code",
   "execution_count": 16,
   "id": "b7cc8fb3",
   "metadata": {},
   "outputs": [],
   "source": [
    "train_df = train_df.drop([\"PassengerId\", \"Ticket\", \"Cabin\"], axis=1)\n",
    "test_df = test_df.drop([\"Ticket\", \"Cabin\"], axis=1)"
   ]
  },
  {
   "cell_type": "code",
   "execution_count": 17,
   "id": "97fb9bf8",
   "metadata": {},
   "outputs": [
    {
     "data": {
      "text/plain": [
       "{'Mr.': 757,\n",
       " 'Mrs.': 197,\n",
       " 'Miss.': 260,\n",
       " 'Master.': 61,\n",
       " 'Don.': 1,\n",
       " 'Rev.': 8,\n",
       " 'Dr.': 8,\n",
       " 'Mme.': 1,\n",
       " 'Ms.': 2,\n",
       " 'Major.': 2,\n",
       " 'L.': 1,\n",
       " 'Lady.': 1,\n",
       " 'Sir.': 1,\n",
       " 'Mlle.': 2,\n",
       " 'Col.': 4,\n",
       " 'Capt.': 1,\n",
       " 'Countess.': 1,\n",
       " 'Jonkheer.': 1,\n",
       " 'Dona.': 1}"
      ]
     },
     "execution_count": 17,
     "metadata": {},
     "output_type": "execute_result"
    }
   ],
   "source": [
    "title_dict = {}\n",
    "for i in range(0, train_df.shape[0]):\n",
    "    name_words = train_df.iloc[i][\"Name\"].split()\n",
    "    for word in name_words:\n",
    "        if \".\" in word:\n",
    "            if word in title_dict:\n",
    "                title_dict[word] += 1\n",
    "            else:\n",
    "                title_dict[word] = 1\n",
    "for i in range(0, test_df.shape[0]):\n",
    "    name_words = test_df.iloc[i][\"Name\"].split()\n",
    "    for word in name_words:\n",
    "        if \".\" in word:\n",
    "            if word in title_dict:\n",
    "                title_dict[word] += 1\n",
    "            else:\n",
    "                title_dict[word] = 1\n",
    "title_dict"
   ]
  },
  {
   "cell_type": "markdown",
   "id": "9823bc0f",
   "metadata": {},
   "source": [
    "Differentiating gender in the title will only add redundancy with the already present *Sex* feature. Therefore, we'll only add two title, one for rare titles (ex: Captain, Countess,...) and one for common titles (ex: Mr.n Mrs., ...). Also, Title is directly added as ordinal features, not categorical."
   ]
  },
  {
   "cell_type": "code",
   "execution_count": 18,
   "id": "090051e8",
   "metadata": {},
   "outputs": [],
   "source": [
    "last_i = -1\n",
    "titles = []\n",
    "for i in range(0, train_df.shape[0]):\n",
    "    name_words = train_df.iloc[i][\"Name\"].split()\n",
    "    for word in name_words:\n",
    "        if \".\" in word:\n",
    "            if last_i==i: # If two words have a dot in the name, only consider the first one (the second is related to middle name)\n",
    "                continue\n",
    "            last_i = i\n",
    "            if word in [\"Mr.\", \"Mrs.\", \"Miss.\", \"Mme.\", \"Ms.\", \"Mlle.\"]:\n",
    "                titles.append(0)\n",
    "            else:\n",
    "                titles.append(1)\n",
    "train_df[\"Title\"] = titles"
   ]
  },
  {
   "cell_type": "code",
   "execution_count": 19,
   "id": "38b19474",
   "metadata": {},
   "outputs": [],
   "source": [
    "last_i = -1\n",
    "titles = []\n",
    "for i in range(0, test_df.shape[0]):\n",
    "    name_words = test_df.iloc[i][\"Name\"].split()\n",
    "    for word in name_words:\n",
    "        if \".\" in word:\n",
    "            if last_i==i: # If two words have a dot in the name, only consider the first one (the second is related to middle name)\n",
    "                continue\n",
    "            last_i = i\n",
    "            if word in [\"Mr.\", \"Mrs.\", \"Miss.\", \"Mme.\", \"Ms.\", \"Mlle.\"]:\n",
    "                titles.append(0)\n",
    "            else:\n",
    "                titles.append(1)\n",
    "test_df[\"Title\"] = titles"
   ]
  },
  {
   "cell_type": "code",
   "execution_count": 20,
   "id": "2613f195",
   "metadata": {},
   "outputs": [
    {
     "data": {
      "text/html": [
       "<div>\n",
       "<style scoped>\n",
       "    .dataframe tbody tr th:only-of-type {\n",
       "        vertical-align: middle;\n",
       "    }\n",
       "\n",
       "    .dataframe tbody tr th {\n",
       "        vertical-align: top;\n",
       "    }\n",
       "\n",
       "    .dataframe thead th {\n",
       "        text-align: right;\n",
       "    }\n",
       "</style>\n",
       "<table border=\"1\" class=\"dataframe\">\n",
       "  <thead>\n",
       "    <tr style=\"text-align: right;\">\n",
       "      <th></th>\n",
       "      <th>Survived</th>\n",
       "    </tr>\n",
       "    <tr>\n",
       "      <th>Title</th>\n",
       "      <th></th>\n",
       "    </tr>\n",
       "  </thead>\n",
       "  <tbody>\n",
       "    <tr>\n",
       "      <th>0</th>\n",
       "      <td>0.375604</td>\n",
       "    </tr>\n",
       "    <tr>\n",
       "      <th>1</th>\n",
       "      <td>0.492063</td>\n",
       "    </tr>\n",
       "  </tbody>\n",
       "</table>\n",
       "</div>"
      ],
      "text/plain": [
       "       Survived\n",
       "Title          \n",
       "0      0.375604\n",
       "1      0.492063"
      ]
     },
     "execution_count": 20,
     "metadata": {},
     "output_type": "execute_result"
    }
   ],
   "source": [
    "train_df[[\"Title\", \"Survived\"]].groupby([\"Title\"]).mean()"
   ]
  },
  {
   "cell_type": "markdown",
   "id": "c5b504fc",
   "metadata": {},
   "source": [
    "It looks like there's a small correlation between title and survival chance as people with a rarer title seem to have been more likely to survive. Now Name feature can be dropped."
   ]
  },
  {
   "cell_type": "code",
   "execution_count": 21,
   "id": "72493443",
   "metadata": {},
   "outputs": [],
   "source": [
    "train_df = train_df.drop([\"Name\"], axis=1)\n",
    "test_df = test_df.drop([\"Name\"], axis=1)"
   ]
  },
  {
   "cell_type": "markdown",
   "id": "293f8f52",
   "metadata": {},
   "source": [
    "Next, we need to convert categorical features, as most algorithms can't work with textual data. In some cases, when you have categorical data with more than 2 values, you must pay attention to the numbers used as this can induce a bias in some algorithms, but we don't do that here. <br />\n",
    "For now, we only do that for the *Sex* feature, as the *Embarked* feature still needs to be completed first"
   ]
  },
  {
   "cell_type": "code",
   "execution_count": 22,
   "id": "d3cd972b",
   "metadata": {},
   "outputs": [],
   "source": [
    "train_df[\"Sex\"] = train_df[\"Sex\"].map({\"male\":0, \"female\":1}).astype(int)\n",
    "test_df[\"Sex\"] = test_df[\"Sex\"].map({\"male\":0, \"female\":1}).astype(int)"
   ]
  },
  {
   "cell_type": "code",
   "execution_count": 23,
   "id": "5fc78e2d",
   "metadata": {},
   "outputs": [
    {
     "data": {
      "text/html": [
       "<div>\n",
       "<style scoped>\n",
       "    .dataframe tbody tr th:only-of-type {\n",
       "        vertical-align: middle;\n",
       "    }\n",
       "\n",
       "    .dataframe tbody tr th {\n",
       "        vertical-align: top;\n",
       "    }\n",
       "\n",
       "    .dataframe thead th {\n",
       "        text-align: right;\n",
       "    }\n",
       "</style>\n",
       "<table border=\"1\" class=\"dataframe\">\n",
       "  <thead>\n",
       "    <tr style=\"text-align: right;\">\n",
       "      <th></th>\n",
       "      <th>Survived</th>\n",
       "      <th>Pclass</th>\n",
       "      <th>Sex</th>\n",
       "      <th>Age</th>\n",
       "      <th>SibSp</th>\n",
       "      <th>Parch</th>\n",
       "      <th>Fare</th>\n",
       "      <th>Embarked</th>\n",
       "      <th>Title</th>\n",
       "    </tr>\n",
       "  </thead>\n",
       "  <tbody>\n",
       "    <tr>\n",
       "      <th>0</th>\n",
       "      <td>0</td>\n",
       "      <td>3</td>\n",
       "      <td>0</td>\n",
       "      <td>22.0</td>\n",
       "      <td>1</td>\n",
       "      <td>0</td>\n",
       "      <td>7.2500</td>\n",
       "      <td>S</td>\n",
       "      <td>0</td>\n",
       "    </tr>\n",
       "    <tr>\n",
       "      <th>1</th>\n",
       "      <td>1</td>\n",
       "      <td>1</td>\n",
       "      <td>1</td>\n",
       "      <td>38.0</td>\n",
       "      <td>1</td>\n",
       "      <td>0</td>\n",
       "      <td>71.2833</td>\n",
       "      <td>C</td>\n",
       "      <td>0</td>\n",
       "    </tr>\n",
       "    <tr>\n",
       "      <th>2</th>\n",
       "      <td>1</td>\n",
       "      <td>3</td>\n",
       "      <td>1</td>\n",
       "      <td>26.0</td>\n",
       "      <td>0</td>\n",
       "      <td>0</td>\n",
       "      <td>7.9250</td>\n",
       "      <td>S</td>\n",
       "      <td>0</td>\n",
       "    </tr>\n",
       "    <tr>\n",
       "      <th>3</th>\n",
       "      <td>1</td>\n",
       "      <td>1</td>\n",
       "      <td>1</td>\n",
       "      <td>35.0</td>\n",
       "      <td>1</td>\n",
       "      <td>0</td>\n",
       "      <td>53.1000</td>\n",
       "      <td>S</td>\n",
       "      <td>0</td>\n",
       "    </tr>\n",
       "    <tr>\n",
       "      <th>4</th>\n",
       "      <td>0</td>\n",
       "      <td>3</td>\n",
       "      <td>0</td>\n",
       "      <td>35.0</td>\n",
       "      <td>0</td>\n",
       "      <td>0</td>\n",
       "      <td>8.0500</td>\n",
       "      <td>S</td>\n",
       "      <td>0</td>\n",
       "    </tr>\n",
       "  </tbody>\n",
       "</table>\n",
       "</div>"
      ],
      "text/plain": [
       "   Survived  Pclass  Sex   Age  SibSp  Parch     Fare Embarked  Title\n",
       "0         0       3    0  22.0      1      0   7.2500        S      0\n",
       "1         1       1    1  38.0      1      0  71.2833        C      0\n",
       "2         1       3    1  26.0      0      0   7.9250        S      0\n",
       "3         1       1    1  35.0      1      0  53.1000        S      0\n",
       "4         0       3    0  35.0      0      0   8.0500        S      0"
      ]
     },
     "execution_count": 23,
     "metadata": {},
     "output_type": "execute_result"
    }
   ],
   "source": [
    "train_df.head()"
   ]
  },
  {
   "cell_type": "markdown",
   "id": "a7a422c7",
   "metadata": {},
   "source": [
    "We'll now look at completing the continuous *Age* feature. There are different ways to do such a thing. <br />\n",
    "1) We can simply get a random value using the mean and std of the Age feature, this is the easiest way. <br />\n",
    "2) We can look at the *n* nearest neighbors in the dataset, and choose a random value between the minimum and the maximum of these nearest neighbors. <br />\n",
    "3) We can use other correlated features and use the mean and std of similar samples having those correlated features equal (kinda like method 1 but using a specifically chosen subset of the df instead of the whole df). <br/>\n",
    "Here, we'll be using method 3. Age is correlated to gender and Pclass as shown below, these two will be the correlated features for which we're gonna build 6 subsets (3 for Pclass * 2 for gender). It's possible to do this with other variables aswell, like the title or anything else."
   ]
  },
  {
   "cell_type": "code",
   "execution_count": 24,
   "id": "74cbaf8b",
   "metadata": {},
   "outputs": [
    {
     "data": {
      "image/png": "[encoded data removed]",
      "text/plain": [
       "<Figure size 1080x720 with 6 Axes>"
      ]
     },
     "metadata": {
      "needs_background": "light"
     },
     "output_type": "display_data"
    }
   ],
   "source": [
    "_, axes = plt.subplots(nrows=3, ncols=2, figsize=(15, 10))\n",
    "ax1 = axes[0, 0]\n",
    "ax2 = axes[0, 1]\n",
    "ax3 = axes[1, 0]\n",
    "ax4 = axes[1, 1]\n",
    "ax5 = axes[2, 0]\n",
    "ax6 = axes[2, 1]\n",
    "\n",
    "ax1.hist(train_df[[\"Age\"]][(train_df[\"Sex\"]==0) & (train_df[\"Pclass\"]==1)], bins=20)\n",
    "ax1.set_title(\"Pclass=1 && Sex=0\")\n",
    "ax1.set_xlim([-5, 85])\n",
    "ax1.set_ylim([0, 45])\n",
    "ax2.hist(train_df[[\"Age\"]][(train_df[\"Sex\"]==1) & (train_df[\"Pclass\"]==1)], bins=20)\n",
    "ax2.set_title(\"Pclass=1 && Sex=1\")\n",
    "ax2.set_xlim([-5, 85])\n",
    "ax2.set_ylim([0, 45])\n",
    "\n",
    "ax3.hist(train_df[[\"Age\"]][(train_df[\"Sex\"]==0) & (train_df[\"Pclass\"]==2)], bins=20)\n",
    "ax3.set_title(\"Pclass=2 && Sex=0\")\n",
    "ax3.set_xlim([-5, 85])\n",
    "ax3.set_ylim([0, 45])\n",
    "ax4.hist(train_df[[\"Age\"]][(train_df[\"Sex\"]==1) & (train_df[\"Pclass\"]==2)], bins=20)\n",
    "ax4.set_title(\"Pclass=2 && Sex=1\")\n",
    "ax4.set_xlim([-5, 85])\n",
    "ax4.set_ylim([0, 45])\n",
    "\n",
    "ax5.hist(train_df[[\"Age\"]][(train_df[\"Sex\"]==0) & (train_df[\"Pclass\"]==3)], bins=20)\n",
    "ax5.set_title(\"Pclass=3 && Sex=0\")\n",
    "ax5.set_xlim([-5, 85])\n",
    "ax5.set_ylim([0, 45])\n",
    "ax6.hist(train_df[[\"Age\"]][(train_df[\"Sex\"]==1) & (train_df[\"Pclass\"]==3)], bins=20)\n",
    "ax6.set_title(\"Pclass=3 && Sex=1\")\n",
    "ax6.set_xlim([-5, 85])\n",
    "ax6.set_ylim([0, 45])\n",
    "\n",
    "plt.show()"
   ]
  },
  {
   "cell_type": "markdown",
   "id": "8b143f79",
   "metadata": {},
   "source": [
    "First, create subsets and calculate mean and std of each subset"
   ]
  },
  {
   "cell_type": "code",
   "execution_count": 25,
   "id": "743c13d1",
   "metadata": {},
   "outputs": [],
   "source": [
    "ages_attributes = np.zeros((6, 2))\n",
    "subsets = [[], [], [], [], [], []]\n",
    "for dataset in [train_df, test_df]:\n",
    "    for i in range(0, dataset.shape[0]):\n",
    "        if not np.isnan(dataset.iloc[i][\"Age\"]):\n",
    "            if dataset.iloc[i][\"Pclass\"]==1 and dataset.iloc[i][\"Sex\"]==0:\n",
    "                subsets[0].append(dataset.iloc[i][\"Age\"])\n",
    "            if dataset.iloc[i][\"Pclass\"]==1 and dataset.iloc[i][\"Sex\"]==1:\n",
    "                subsets[1].append(dataset.iloc[i][\"Age\"])\n",
    "            if dataset.iloc[i][\"Pclass\"]==2 and dataset.iloc[i][\"Sex\"]==0:\n",
    "                subsets[2].append(dataset.iloc[i][\"Age\"])\n",
    "            if dataset.iloc[i][\"Pclass\"]==2 and dataset.iloc[i][\"Sex\"]==1:\n",
    "                subsets[3].append(dataset.iloc[i][\"Age\"])\n",
    "            if dataset.iloc[i][\"Pclass\"]==3 and dataset.iloc[i][\"Sex\"]==0:\n",
    "                subsets[4].append(dataset.iloc[i][\"Age\"])\n",
    "            if dataset.iloc[i][\"Pclass\"]==3 and dataset.iloc[i][\"Sex\"]==1:\n",
    "                subsets[5].append(dataset.iloc[i][\"Age\"])\n",
    "\n",
    "ages_attributes[0] = np.array([np.mean(subsets[0]), np.std(subsets[0])])\n",
    "ages_attributes[1] = np.array([np.mean(subsets[1]), np.std(subsets[1])])\n",
    "ages_attributes[2] = np.array([np.mean(subsets[2]), np.std(subsets[2])])\n",
    "ages_attributes[3] = np.array([np.mean(subsets[3]), np.std(subsets[3])])\n",
    "ages_attributes[4] = np.array([np.mean(subsets[4]), np.std(subsets[4])])\n",
    "ages_attributes[5] = np.array([np.mean(subsets[5]), np.std(subsets[5])])"
   ]
  },
  {
   "cell_type": "markdown",
   "id": "4d2fff6b",
   "metadata": {},
   "source": [
    "Then, induce new values using those attributes. The randomly generated age could theoretically be negative so we need to add a clause for it to make sense."
   ]
  },
  {
   "cell_type": "code",
   "execution_count": 26,
   "id": "00114f8d",
   "metadata": {},
   "outputs": [],
   "source": [
    "for dataset in [train_df, test_df]:\n",
    "    new_ages = []\n",
    "    for i in range(0, dataset.shape[0]):\n",
    "        if np.isnan(dataset.iloc[i][\"Age\"]):\n",
    "            if dataset.iloc[i][\"Pclass\"]==1 and dataset.iloc[i][\"Sex\"]==0:\n",
    "                predicted = np.random.normal(loc=ages_attributes[0,0], scale=ages_attributes[0, 1])\n",
    "                while predicted<=0:\n",
    "                    predicted = np.random.normal(loc=ages_attributes[0,0], scale=ages_attributes[0, 1])\n",
    "                new_ages.append(predicted)\n",
    "            if dataset.iloc[i][\"Pclass\"]==1 and dataset.iloc[i][\"Sex\"]==1:\n",
    "                predicted = np.random.normal(loc=ages_attributes[1,0], scale=ages_attributes[1, 1])\n",
    "                while predicted<=0:\n",
    "                    predicted = np.random.normal(loc=ages_attributes[1,0], scale=ages_attributes[1, 1])\n",
    "                new_ages.append(predicted)\n",
    "            if dataset.iloc[i][\"Pclass\"]==2 and dataset.iloc[i][\"Sex\"]==0:\n",
    "                predicted = np.random.normal(loc=ages_attributes[2,0], scale=ages_attributes[2, 1])\n",
    "                while predicted<=0:\n",
    "                    predicted = np.random.normal(loc=ages_attributes[2,0], scale=ages_attributes[2, 1])\n",
    "                new_ages.append(predicted)\n",
    "            if dataset.iloc[i][\"Pclass\"]==2 and dataset.iloc[i][\"Sex\"]==1:\n",
    "                predicted = np.random.normal(loc=ages_attributes[3,0], scale=ages_attributes[3, 1])\n",
    "                while predicted<=0:\n",
    "                    predicted = np.random.normal(loc=ages_attributes[3,0], scale=ages_attributes[3, 1])\n",
    "                new_ages.append(predicted)\n",
    "            if dataset.iloc[i][\"Pclass\"]==3 and dataset.iloc[i][\"Sex\"]==0:\n",
    "                predicted = np.random.normal(loc=ages_attributes[4,0], scale=ages_attributes[4, 1])\n",
    "                while predicted<=0:\n",
    "                    predicted = np.random.normal(loc=ages_attributes[4,0], scale=ages_attributes[4, 1])\n",
    "                new_ages.append(predicted)\n",
    "            if dataset.iloc[i][\"Pclass\"]==3 and dataset.iloc[i][\"Sex\"]==1:\n",
    "                predicted = np.random.normal(loc=ages_attributes[5,0], scale=ages_attributes[5, 1])\n",
    "                while predicted<=0:\n",
    "                    predicted = np.random.normal(loc=ages_attributes[5,0], scale=ages_attributes[5, 1])\n",
    "                new_ages.append(predicted)\n",
    "        else:\n",
    "            new_ages.append(dataset.iloc[i][\"Age\"])\n",
    "    dataset[\"Age\"] = new_ages"
   ]
  },
  {
   "cell_type": "code",
   "execution_count": 27,
   "id": "000b9565",
   "metadata": {},
   "outputs": [
    {
     "data": {
      "text/html": [
       "<div>\n",
       "<style scoped>\n",
       "    .dataframe tbody tr th:only-of-type {\n",
       "        vertical-align: middle;\n",
       "    }\n",
       "\n",
       "    .dataframe tbody tr th {\n",
       "        vertical-align: top;\n",
       "    }\n",
       "\n",
       "    .dataframe thead th {\n",
       "        text-align: right;\n",
       "    }\n",
       "</style>\n",
       "<table border=\"1\" class=\"dataframe\">\n",
       "  <thead>\n",
       "    <tr style=\"text-align: right;\">\n",
       "      <th></th>\n",
       "      <th>Survived</th>\n",
       "      <th>Pclass</th>\n",
       "      <th>Sex</th>\n",
       "      <th>Age</th>\n",
       "      <th>SibSp</th>\n",
       "      <th>Parch</th>\n",
       "      <th>Fare</th>\n",
       "      <th>Title</th>\n",
       "    </tr>\n",
       "  </thead>\n",
       "  <tbody>\n",
       "    <tr>\n",
       "      <th>count</th>\n",
       "      <td>891.000000</td>\n",
       "      <td>891.000000</td>\n",
       "      <td>891.000000</td>\n",
       "      <td>891.000000</td>\n",
       "      <td>891.000000</td>\n",
       "      <td>891.000000</td>\n",
       "      <td>891.000000</td>\n",
       "      <td>891.000000</td>\n",
       "    </tr>\n",
       "    <tr>\n",
       "      <th>mean</th>\n",
       "      <td>0.383838</td>\n",
       "      <td>2.308642</td>\n",
       "      <td>0.352413</td>\n",
       "      <td>29.583908</td>\n",
       "      <td>0.523008</td>\n",
       "      <td>0.381594</td>\n",
       "      <td>32.204208</td>\n",
       "      <td>0.070707</td>\n",
       "    </tr>\n",
       "    <tr>\n",
       "      <th>std</th>\n",
       "      <td>0.486592</td>\n",
       "      <td>0.836071</td>\n",
       "      <td>0.477990</td>\n",
       "      <td>14.206855</td>\n",
       "      <td>1.102743</td>\n",
       "      <td>0.806057</td>\n",
       "      <td>49.693429</td>\n",
       "      <td>0.256479</td>\n",
       "    </tr>\n",
       "    <tr>\n",
       "      <th>min</th>\n",
       "      <td>0.000000</td>\n",
       "      <td>1.000000</td>\n",
       "      <td>0.000000</td>\n",
       "      <td>0.420000</td>\n",
       "      <td>0.000000</td>\n",
       "      <td>0.000000</td>\n",
       "      <td>0.000000</td>\n",
       "      <td>0.000000</td>\n",
       "    </tr>\n",
       "    <tr>\n",
       "      <th>25%</th>\n",
       "      <td>0.000000</td>\n",
       "      <td>2.000000</td>\n",
       "      <td>0.000000</td>\n",
       "      <td>20.000000</td>\n",
       "      <td>0.000000</td>\n",
       "      <td>0.000000</td>\n",
       "      <td>7.910400</td>\n",
       "      <td>0.000000</td>\n",
       "    </tr>\n",
       "    <tr>\n",
       "      <th>50%</th>\n",
       "      <td>0.000000</td>\n",
       "      <td>3.000000</td>\n",
       "      <td>0.000000</td>\n",
       "      <td>28.000000</td>\n",
       "      <td>0.000000</td>\n",
       "      <td>0.000000</td>\n",
       "      <td>14.454200</td>\n",
       "      <td>0.000000</td>\n",
       "    </tr>\n",
       "    <tr>\n",
       "      <th>75%</th>\n",
       "      <td>1.000000</td>\n",
       "      <td>3.000000</td>\n",
       "      <td>1.000000</td>\n",
       "      <td>38.000000</td>\n",
       "      <td>1.000000</td>\n",
       "      <td>0.000000</td>\n",
       "      <td>31.000000</td>\n",
       "      <td>0.000000</td>\n",
       "    </tr>\n",
       "    <tr>\n",
       "      <th>max</th>\n",
       "      <td>1.000000</td>\n",
       "      <td>3.000000</td>\n",
       "      <td>1.000000</td>\n",
       "      <td>80.000000</td>\n",
       "      <td>8.000000</td>\n",
       "      <td>6.000000</td>\n",
       "      <td>512.329200</td>\n",
       "      <td>1.000000</td>\n",
       "    </tr>\n",
       "  </tbody>\n",
       "</table>\n",
       "</div>"
      ],
      "text/plain": [
       "         Survived      Pclass         Sex         Age       SibSp       Parch  \\\n",
       "count  891.000000  891.000000  891.000000  891.000000  891.000000  891.000000   \n",
       "mean     0.383838    2.308642    0.352413   29.583908    0.523008    0.381594   \n",
       "std      0.486592    0.836071    0.477990   14.206855    1.102743    0.806057   \n",
       "min      0.000000    1.000000    0.000000    0.420000    0.000000    0.000000   \n",
       "25%      0.000000    2.000000    0.000000   20.000000    0.000000    0.000000   \n",
       "50%      0.000000    3.000000    0.000000   28.000000    0.000000    0.000000   \n",
       "75%      1.000000    3.000000    1.000000   38.000000    1.000000    0.000000   \n",
       "max      1.000000    3.000000    1.000000   80.000000    8.000000    6.000000   \n",
       "\n",
       "             Fare       Title  \n",
       "count  891.000000  891.000000  \n",
       "mean    32.204208    0.070707  \n",
       "std     49.693429    0.256479  \n",
       "min      0.000000    0.000000  \n",
       "25%      7.910400    0.000000  \n",
       "50%     14.454200    0.000000  \n",
       "75%     31.000000    0.000000  \n",
       "max    512.329200    1.000000  "
      ]
     },
     "execution_count": 27,
     "metadata": {},
     "output_type": "execute_result"
    }
   ],
   "source": [
    "train_df.describe()"
   ]
  },
  {
   "cell_type": "markdown",
   "id": "202c0b32",
   "metadata": {},
   "source": [
    "We can now combine the *SibSp* and *Parch* features into a single feature *Family*"
   ]
  },
  {
   "cell_type": "code",
   "execution_count": 28,
   "id": "3e658657",
   "metadata": {},
   "outputs": [],
   "source": [
    "for dataset in [train_df, test_df]:\n",
    "    dataset[\"Family\"] = dataset[\"SibSp\"]+dataset[\"Parch\"]"
   ]
  },
  {
   "cell_type": "code",
   "execution_count": 29,
   "id": "691ba4ad",
   "metadata": {},
   "outputs": [],
   "source": [
    "train_df = train_df.drop([\"SibSp\", \"Parch\"], axis=1)\n",
    "test_df = test_df.drop([\"SibSp\", \"Parch\"], axis=1)"
   ]
  },
  {
   "cell_type": "code",
   "execution_count": 30,
   "id": "d0d082e1",
   "metadata": {},
   "outputs": [
    {
     "data": {
      "text/html": [
       "<div>\n",
       "<style scoped>\n",
       "    .dataframe tbody tr th:only-of-type {\n",
       "        vertical-align: middle;\n",
       "    }\n",
       "\n",
       "    .dataframe tbody tr th {\n",
       "        vertical-align: top;\n",
       "    }\n",
       "\n",
       "    .dataframe thead th {\n",
       "        text-align: right;\n",
       "    }\n",
       "</style>\n",
       "<table border=\"1\" class=\"dataframe\">\n",
       "  <thead>\n",
       "    <tr style=\"text-align: right;\">\n",
       "      <th></th>\n",
       "      <th>Survived</th>\n",
       "    </tr>\n",
       "    <tr>\n",
       "      <th>Family</th>\n",
       "      <th></th>\n",
       "    </tr>\n",
       "  </thead>\n",
       "  <tbody>\n",
       "    <tr>\n",
       "      <th>3</th>\n",
       "      <td>0.724138</td>\n",
       "    </tr>\n",
       "    <tr>\n",
       "      <th>2</th>\n",
       "      <td>0.578431</td>\n",
       "    </tr>\n",
       "    <tr>\n",
       "      <th>1</th>\n",
       "      <td>0.552795</td>\n",
       "    </tr>\n",
       "    <tr>\n",
       "      <th>6</th>\n",
       "      <td>0.333333</td>\n",
       "    </tr>\n",
       "    <tr>\n",
       "      <th>0</th>\n",
       "      <td>0.303538</td>\n",
       "    </tr>\n",
       "    <tr>\n",
       "      <th>4</th>\n",
       "      <td>0.200000</td>\n",
       "    </tr>\n",
       "    <tr>\n",
       "      <th>5</th>\n",
       "      <td>0.136364</td>\n",
       "    </tr>\n",
       "    <tr>\n",
       "      <th>7</th>\n",
       "      <td>0.000000</td>\n",
       "    </tr>\n",
       "    <tr>\n",
       "      <th>10</th>\n",
       "      <td>0.000000</td>\n",
       "    </tr>\n",
       "  </tbody>\n",
       "</table>\n",
       "</div>"
      ],
      "text/plain": [
       "        Survived\n",
       "Family          \n",
       "3       0.724138\n",
       "2       0.578431\n",
       "1       0.552795\n",
       "6       0.333333\n",
       "0       0.303538\n",
       "4       0.200000\n",
       "5       0.136364\n",
       "7       0.000000\n",
       "10      0.000000"
      ]
     },
     "execution_count": 30,
     "metadata": {},
     "output_type": "execute_result"
    }
   ],
   "source": [
    "train_df[[\"Family\", \"Survived\"]].groupby(\"Family\").mean().sort_values(by='Survived', ascending=False)"
   ]
  },
  {
   "cell_type": "markdown",
   "id": "1cbeb9e7",
   "metadata": {},
   "source": [
    "There's clearly a correlation between the family and the chance of survival. People with a small family (2 or 3 people) seemed more likely to survive."
   ]
  },
  {
   "cell_type": "markdown",
   "id": "ab3b8996",
   "metadata": {},
   "source": [
    "We can now complete the *Embarked* feature, which only has 2 missing values. We could just drop those 2 samples, look at the nearest neighbors and take the more common value. However, the simplest way to fill features having a low missing values count is to just use the most common value. We also want to convert it as numeric values, not categorical."
   ]
  },
  {
   "cell_type": "code",
   "execution_count": 31,
   "id": "4c88524a",
   "metadata": {},
   "outputs": [
    {
     "data": {
      "text/plain": [
       "S    914\n",
       "C    270\n",
       "Q    123\n",
       "Name: Embarked, dtype: int64"
      ]
     },
     "execution_count": 31,
     "metadata": {},
     "output_type": "execute_result"
    }
   ],
   "source": [
    "pd.concat([train_df[\"Embarked\"], test_df[\"Embarked\"]]).value_counts()"
   ]
  },
  {
   "cell_type": "code",
   "execution_count": 32,
   "id": "54cf43aa",
   "metadata": {},
   "outputs": [],
   "source": [
    "for dataset in [train_df, test_df]:\n",
    "    dataset[\"Embarked\"] = dataset[\"Embarked\"].fillna(\"S\").map({\"S\":0, \"C\":1, \"Q\":2})"
   ]
  },
  {
   "cell_type": "code",
   "execution_count": 33,
   "id": "996daa76",
   "metadata": {},
   "outputs": [
    {
     "data": {
      "text/plain": [
       "0    916\n",
       "1    270\n",
       "2    123\n",
       "Name: Embarked, dtype: int64"
      ]
     },
     "execution_count": 33,
     "metadata": {},
     "output_type": "execute_result"
    }
   ],
   "source": [
    "pd.concat([train_df[\"Embarked\"], test_df[\"Embarked\"]]).value_counts()"
   ]
  },
  {
   "cell_type": "markdown",
   "id": "18db938b",
   "metadata": {},
   "source": [
    "The last thing to do is to handle the Fare feature where there is one missing value for the test set. Here, we'll simply innduce a value using the global mean."
   ]
  },
  {
   "cell_type": "code",
   "execution_count": 34,
   "id": "d0a2d9d9",
   "metadata": {},
   "outputs": [],
   "source": [
    "test_df[\"Fare\"] = test_df[\"Fare\"].fillna(pd.concat([train_df[\"Fare\"], test_df[\"Fare\"]]).mean())"
   ]
  },
  {
   "cell_type": "code",
   "execution_count": 35,
   "id": "df43a835",
   "metadata": {},
   "outputs": [
    {
     "data": {
      "text/html": [
       "<div>\n",
       "<style scoped>\n",
       "    .dataframe tbody tr th:only-of-type {\n",
       "        vertical-align: middle;\n",
       "    }\n",
       "\n",
       "    .dataframe tbody tr th {\n",
       "        vertical-align: top;\n",
       "    }\n",
       "\n",
       "    .dataframe thead th {\n",
       "        text-align: right;\n",
       "    }\n",
       "</style>\n",
       "<table border=\"1\" class=\"dataframe\">\n",
       "  <thead>\n",
       "    <tr style=\"text-align: right;\">\n",
       "      <th></th>\n",
       "      <th>Survived</th>\n",
       "      <th>Pclass</th>\n",
       "      <th>Sex</th>\n",
       "      <th>Age</th>\n",
       "      <th>Fare</th>\n",
       "      <th>Embarked</th>\n",
       "      <th>Title</th>\n",
       "      <th>Family</th>\n",
       "    </tr>\n",
       "  </thead>\n",
       "  <tbody>\n",
       "    <tr>\n",
       "      <th>0</th>\n",
       "      <td>0</td>\n",
       "      <td>3</td>\n",
       "      <td>0</td>\n",
       "      <td>22.0</td>\n",
       "      <td>7.2500</td>\n",
       "      <td>0</td>\n",
       "      <td>0</td>\n",
       "      <td>1</td>\n",
       "    </tr>\n",
       "    <tr>\n",
       "      <th>1</th>\n",
       "      <td>1</td>\n",
       "      <td>1</td>\n",
       "      <td>1</td>\n",
       "      <td>38.0</td>\n",
       "      <td>71.2833</td>\n",
       "      <td>1</td>\n",
       "      <td>0</td>\n",
       "      <td>1</td>\n",
       "    </tr>\n",
       "    <tr>\n",
       "      <th>2</th>\n",
       "      <td>1</td>\n",
       "      <td>3</td>\n",
       "      <td>1</td>\n",
       "      <td>26.0</td>\n",
       "      <td>7.9250</td>\n",
       "      <td>0</td>\n",
       "      <td>0</td>\n",
       "      <td>0</td>\n",
       "    </tr>\n",
       "    <tr>\n",
       "      <th>3</th>\n",
       "      <td>1</td>\n",
       "      <td>1</td>\n",
       "      <td>1</td>\n",
       "      <td>35.0</td>\n",
       "      <td>53.1000</td>\n",
       "      <td>0</td>\n",
       "      <td>0</td>\n",
       "      <td>1</td>\n",
       "    </tr>\n",
       "    <tr>\n",
       "      <th>4</th>\n",
       "      <td>0</td>\n",
       "      <td>3</td>\n",
       "      <td>0</td>\n",
       "      <td>35.0</td>\n",
       "      <td>8.0500</td>\n",
       "      <td>0</td>\n",
       "      <td>0</td>\n",
       "      <td>0</td>\n",
       "    </tr>\n",
       "  </tbody>\n",
       "</table>\n",
       "</div>"
      ],
      "text/plain": [
       "   Survived  Pclass  Sex   Age     Fare  Embarked  Title  Family\n",
       "0         0       3    0  22.0   7.2500         0      0       1\n",
       "1         1       1    1  38.0  71.2833         1      0       1\n",
       "2         1       3    1  26.0   7.9250         0      0       0\n",
       "3         1       1    1  35.0  53.1000         0      0       1\n",
       "4         0       3    0  35.0   8.0500         0      0       0"
      ]
     },
     "execution_count": 35,
     "metadata": {},
     "output_type": "execute_result"
    }
   ],
   "source": [
    "train_df.head()"
   ]
  },
  {
   "cell_type": "code",
   "execution_count": 36,
   "id": "56532dee",
   "metadata": {},
   "outputs": [
    {
     "data": {
      "text/html": [
       "<div>\n",
       "<style scoped>\n",
       "    .dataframe tbody tr th:only-of-type {\n",
       "        vertical-align: middle;\n",
       "    }\n",
       "\n",
       "    .dataframe tbody tr th {\n",
       "        vertical-align: top;\n",
       "    }\n",
       "\n",
       "    .dataframe thead th {\n",
       "        text-align: right;\n",
       "    }\n",
       "</style>\n",
       "<table border=\"1\" class=\"dataframe\">\n",
       "  <thead>\n",
       "    <tr style=\"text-align: right;\">\n",
       "      <th></th>\n",
       "      <th>PassengerId</th>\n",
       "      <th>Pclass</th>\n",
       "      <th>Sex</th>\n",
       "      <th>Age</th>\n",
       "      <th>Fare</th>\n",
       "      <th>Embarked</th>\n",
       "      <th>Title</th>\n",
       "      <th>Family</th>\n",
       "    </tr>\n",
       "  </thead>\n",
       "  <tbody>\n",
       "    <tr>\n",
       "      <th>0</th>\n",
       "      <td>892</td>\n",
       "      <td>3</td>\n",
       "      <td>0</td>\n",
       "      <td>34.5</td>\n",
       "      <td>7.8292</td>\n",
       "      <td>2</td>\n",
       "      <td>0</td>\n",
       "      <td>0</td>\n",
       "    </tr>\n",
       "    <tr>\n",
       "      <th>1</th>\n",
       "      <td>893</td>\n",
       "      <td>3</td>\n",
       "      <td>1</td>\n",
       "      <td>47.0</td>\n",
       "      <td>7.0000</td>\n",
       "      <td>0</td>\n",
       "      <td>0</td>\n",
       "      <td>1</td>\n",
       "    </tr>\n",
       "    <tr>\n",
       "      <th>2</th>\n",
       "      <td>894</td>\n",
       "      <td>2</td>\n",
       "      <td>0</td>\n",
       "      <td>62.0</td>\n",
       "      <td>9.6875</td>\n",
       "      <td>2</td>\n",
       "      <td>0</td>\n",
       "      <td>0</td>\n",
       "    </tr>\n",
       "    <tr>\n",
       "      <th>3</th>\n",
       "      <td>895</td>\n",
       "      <td>3</td>\n",
       "      <td>0</td>\n",
       "      <td>27.0</td>\n",
       "      <td>8.6625</td>\n",
       "      <td>0</td>\n",
       "      <td>0</td>\n",
       "      <td>0</td>\n",
       "    </tr>\n",
       "    <tr>\n",
       "      <th>4</th>\n",
       "      <td>896</td>\n",
       "      <td>3</td>\n",
       "      <td>1</td>\n",
       "      <td>22.0</td>\n",
       "      <td>12.2875</td>\n",
       "      <td>0</td>\n",
       "      <td>0</td>\n",
       "      <td>2</td>\n",
       "    </tr>\n",
       "  </tbody>\n",
       "</table>\n",
       "</div>"
      ],
      "text/plain": [
       "   PassengerId  Pclass  Sex   Age     Fare  Embarked  Title  Family\n",
       "0          892       3    0  34.5   7.8292         2      0       0\n",
       "1          893       3    1  47.0   7.0000         0      0       1\n",
       "2          894       2    0  62.0   9.6875         2      0       0\n",
       "3          895       3    0  27.0   8.6625         0      0       0\n",
       "4          896       3    1  22.0  12.2875         0      0       2"
      ]
     },
     "execution_count": 36,
     "metadata": {},
     "output_type": "execute_result"
    }
   ],
   "source": [
    "test_df.head()"
   ]
  },
  {
   "cell_type": "markdown",
   "id": "cc4a8446",
   "metadata": {},
   "source": [
    "### Redundancy check <br />\n",
    "\n",
    "Before fitting the models, it's always better to check for redundancy. Redundancy causes models to overfit and makes generalization worst. However, if one can make sure that the data distribution is exactly the same in the training and testing sets, then keeping duplicates could make sense as the model will overfit to the training distribution but here it turns out it's the same as the testing distribution. Nevertheless, I almost always remove the duplicates."
   ]
  },
  {
   "cell_type": "code",
   "execution_count": 38,
   "id": "3025936c",
   "metadata": {},
   "outputs": [
    {
     "name": "stdout",
     "output_type": "stream",
     "text": [
      "Train data has 37 duplicated data\n"
     ]
    }
   ],
   "source": [
    "print(f\"Train data has {train_df.duplicated().sum()} duplicated data\")"
   ]
  },
  {
   "cell_type": "code",
   "execution_count": 44,
   "id": "9f5ab636",
   "metadata": {},
   "outputs": [],
   "source": [
    "train_df = train_df.drop_duplicates()"
   ]
  },
  {
   "cell_type": "markdown",
   "id": "20df3cdc",
   "metadata": {},
   "source": [
    "### Prediction models"
   ]
  },
  {
   "cell_type": "markdown",
   "id": "9716d582",
   "metadata": {},
   "source": [
    "First, import the metrics that we'll use to score the model. We'll be using the recall, precision and f1 score here. We're also importing GridSearchCV, which facilitates training our models."
   ]
  },
  {
   "cell_type": "code",
   "execution_count": 45,
   "id": "cd94b291",
   "metadata": {},
   "outputs": [],
   "source": [
    "from sklearn.metrics import f1_score\n",
    "from sklearn.metrics import precision_score\n",
    "from sklearn.metrics import recall_score\n",
    "from sklearn.model_selection import GridSearchCV"
   ]
  },
  {
   "cell_type": "markdown",
   "id": "9670d113",
   "metadata": {},
   "source": [
    "The datasets are now ready to be used with prediction models. We'll be comparing several different models here but the first step is to separate the datasets into X (group of features used) and y (target). <br />\n",
    "Here, if X_train.shape[1] != X_test.shape[1] something went wrong above"
   ]
  },
  {
   "cell_type": "code",
   "execution_count": 46,
   "id": "99eaa4d2",
   "metadata": {},
   "outputs": [
    {
     "name": "stdout",
     "output_type": "stream",
     "text": [
      "(854, 7) (854,) (418, 7)\n"
     ]
    }
   ],
   "source": [
    "X_train = train_df.drop(\"Survived\", axis=1)\n",
    "y_train = train_df[\"Survived\"]\n",
    "X_test = test_df.drop(\"PassengerId\", axis=1)\n",
    "print(X_train.shape, y_train.shape, X_test.shape)"
   ]
  },
  {
   "cell_type": "markdown",
   "id": "9373e51c",
   "metadata": {},
   "source": [
    "Some models need the data to be scaled so that an implicit bias is not induced. <br />\n",
    "Indeed, if data was not scaled and one feature ranged from 0 to 1 whereas another ranged from 0 to 10^6, then the second would implicitely have a much bigger impact on prediction. However, we want the algorithm to decide itself which feature should have a bigger impact than other, which means that we want features to be scaled. This is true for most algorithms but not all of them. Decision trees, for example, do not especially need data to be scaled."
   ]
  },
  {
   "cell_type": "code",
   "execution_count": 47,
   "id": "500fa921",
   "metadata": {},
   "outputs": [],
   "source": [
    "from sklearn.preprocessing import MinMaxScaler\n",
    "scaler = MinMaxScaler()\n",
    "X_train_scaled = scaler.fit_transform(X_train)\n",
    "X_test_scaled = scaler.transform(X_test)"
   ]
  },
  {
   "cell_type": "markdown",
   "id": "d641261b",
   "metadata": {},
   "source": [
    "#### Logistic regression"
   ]
  },
  {
   "cell_type": "markdown",
   "id": "c0dcab2a",
   "metadata": {},
   "source": [
    "Let's start with a simple model, the logistic regression (a.k.a. logit regression). This measures the probablility of the target event to happen using a linear combination of the features, considered independant. It gets its name through estimating the probability of the event to happen using a logistic function (=cumulative logistic distribution). <br />"
   ]
  },
  {
   "cell_type": "code",
   "execution_count": 48,
   "id": "919b710b",
   "metadata": {},
   "outputs": [
    {
     "name": "stdout",
     "output_type": "stream",
     "text": [
      "Best score of 0.7998004815961474 was achieved with parameters {'C': 1, 'penalty': 'l2'}\n"
     ]
    }
   ],
   "source": [
    "from sklearn.linear_model import LogisticRegression\n",
    "\n",
    "parameters = {'penalty':(\"l2\", \"none\"), \n",
    "              'C':[0.01, 0.1, 1, 10],\n",
    "             }\n",
    "\n",
    "model_logistic_regression = GridSearchCV(LogisticRegression(), parameters)\n",
    "model_logistic_regression.fit(np.asarray(X_train_scaled), np.asarray(y_train))\n",
    "print(f\"Best score of {model_logistic_regression.best_score_} was achieved with parameters {model_logistic_regression.best_params_}\")"
   ]
  },
  {
   "cell_type": "code",
   "execution_count": 49,
   "id": "086bd277",
   "metadata": {},
   "outputs": [
    {
     "name": "stdout",
     "output_type": "stream",
     "text": [
      "Best logistic regression model got:\n",
      "0.7717041800643086 in precision, \n",
      "0.7164179104477612 in recall and\n",
      "0.7430340557275541 in f1 score\n"
     ]
    }
   ],
   "source": [
    "model_logistic_regression = LogisticRegression(C=0.01, penalty=\"none\")\n",
    "model_logistic_regression.fit(np.asarray(X_train_scaled), np.asarray(y_train))\n",
    "y_pred = model_logistic_regression.predict(X_train_scaled)\n",
    "print(f\"Best logistic regression model got:\\n{precision_score(y_train, y_pred)} in precision, \")\n",
    "print(f\"{recall_score(y_train, y_pred)} in recall and\\n{f1_score(y_train, y_pred)} in f1 score\")"
   ]
  },
  {
   "cell_type": "markdown",
   "id": "bba025fa",
   "metadata": {},
   "source": [
    "We can check how the features influanced the prediction. Having a high correlation means that, as the feature value increased, the probability of survival increased aswell. Here, we have that the gender influenced a lot, with gender=1 meaning *female*, which confirms the assumption that women were more likely to survive. Also, The *Pclass* has negative correlation, meaning that as *Pclass* increases, the chance of survival decreases, confirming the assumption that the upper-class members were more likely to survive."
   ]
  },
  {
   "cell_type": "code",
   "execution_count": 50,
   "id": "5dac8adf",
   "metadata": {},
   "outputs": [
    {
     "data": {
      "text/html": [
       "<div>\n",
       "<style scoped>\n",
       "    .dataframe tbody tr th:only-of-type {\n",
       "        vertical-align: middle;\n",
       "    }\n",
       "\n",
       "    .dataframe tbody tr th {\n",
       "        vertical-align: top;\n",
       "    }\n",
       "\n",
       "    .dataframe thead th {\n",
       "        text-align: right;\n",
       "    }\n",
       "</style>\n",
       "<table border=\"1\" class=\"dataframe\">\n",
       "  <thead>\n",
       "    <tr style=\"text-align: right;\">\n",
       "      <th></th>\n",
       "      <th>Feature</th>\n",
       "      <th>Correlation</th>\n",
       "    </tr>\n",
       "  </thead>\n",
       "  <tbody>\n",
       "    <tr>\n",
       "      <th>1</th>\n",
       "      <td>Sex</td>\n",
       "      <td>2.987824</td>\n",
       "    </tr>\n",
       "    <tr>\n",
       "      <th>5</th>\n",
       "      <td>Title</td>\n",
       "      <td>1.780189</td>\n",
       "    </tr>\n",
       "    <tr>\n",
       "      <th>3</th>\n",
       "      <td>Fare</td>\n",
       "      <td>1.574291</td>\n",
       "    </tr>\n",
       "    <tr>\n",
       "      <th>4</th>\n",
       "      <td>Embarked</td>\n",
       "      <td>0.287453</td>\n",
       "    </tr>\n",
       "    <tr>\n",
       "      <th>0</th>\n",
       "      <td>Pclass</td>\n",
       "      <td>-2.118132</td>\n",
       "    </tr>\n",
       "    <tr>\n",
       "      <th>2</th>\n",
       "      <td>Age</td>\n",
       "      <td>-2.579269</td>\n",
       "    </tr>\n",
       "    <tr>\n",
       "      <th>6</th>\n",
       "      <td>Family</td>\n",
       "      <td>-3.2742</td>\n",
       "    </tr>\n",
       "  </tbody>\n",
       "</table>\n",
       "</div>"
      ],
      "text/plain": [
       "    Feature Correlation\n",
       "1       Sex    2.987824\n",
       "5     Title    1.780189\n",
       "3      Fare    1.574291\n",
       "4  Embarked    0.287453\n",
       "0    Pclass   -2.118132\n",
       "2       Age   -2.579269\n",
       "6    Family     -3.2742"
      ]
     },
     "execution_count": 50,
     "metadata": {},
     "output_type": "execute_result"
    }
   ],
   "source": [
    "coefficients_df = pd.DataFrame(data=np.concatenate(([train_df.columns.delete(0)], [model_logistic_regression.coef_[0]])).T, columns=[\"Feature\", \"Correlation\"])\n",
    "coefficients_df.sort_values(by=\"Correlation\", ascending=False)"
   ]
  },
  {
   "cell_type": "markdown",
   "id": "57b6f2e0",
   "metadata": {},
   "source": [
    "#### Support vector Machine (SVM)"
   ]
  },
  {
   "cell_type": "markdown",
   "id": "0499e320",
   "metadata": {},
   "source": [
    "SVM models try find the best hyperplane to separate the data, *best hyperplane* being calculated using the margins which are the smallest distance between the hyperplane and a data point belonging to each classes (one margin for each class). <br />\n",
    "As is, an SVM can only perform binary classification, but multiple SVMs can be combined to perform multi-class classification. <br />\n",
    "Traditionnaly, there was only linear SVMs, that use the data in the plane that it is represented in. However, with time, non-linear SVMs appeared which basically work the same way but use a different representation of the data. This can something help in finding a better Hyperplane. (Mathematically speaking, this translate into a kernel product instead of a simple product between the data points)<br />\n",
    "The value of C represents the penalization of misclassified samples. This means a higher value of C will penalize the errors more and approaches \"hard-margin\" while a lower value of C means we don't penalize the errors that much and approaches \"soft-margin\". <br />\n",
    "For this classifier, it's a good practice to scale the features so that they all have the same weight. Here, we're gonna scale all features between 0 and 1.<br />"
   ]
  },
  {
   "cell_type": "code",
   "execution_count": 43,
   "id": "51d3a571",
   "metadata": {},
   "outputs": [
    {
     "name": "stdout",
     "output_type": "stream",
     "text": [
      "Fitting 5 folds for each of 24 candidates, totalling 120 fits\n",
      "Best score of 0.8271608813006089 was achieved with parameters {'C': 1, 'degree': 2, 'kernel': 'rbf'}\n"
     ]
    }
   ],
   "source": [
    "from sklearn.svm import SVC\n",
    "\n",
    "parameters = {'C':[0.1, 1, 10, 100],\n",
    "              'kernel':(\"linear\", \"poly\", \"rbf\", \"sigmoid\"),\n",
    "              'degree':[2, 3, 4],\n",
    "             }\n",
    "\n",
    "model_support_vector_machine = GridSearchCV(SVC(), parameters, verbose=1)\n",
    "model_support_vector_machine.fit(np.asarray(X_train_scaled), np.asarray(y_train))\n",
    "print(f\"Best score of {model_support_vector_machine.best_score_} was achieved with parameters {model_support_vector_machine.best_params_}\")\n"
   ]
  },
  {
   "cell_type": "code",
   "execution_count": 44,
   "id": "bc19d529",
   "metadata": {},
   "outputs": [
    {
     "name": "stdout",
     "output_type": "stream",
     "text": [
      "Best support vector machine model got:\n",
      "0.884 in precision, \n",
      "0.6461988304093568 in recall and\n",
      "0.7466216216216217 in f1 score\n"
     ]
    }
   ],
   "source": [
    "model_support_vector_machine = SVC(C=1, degree=2, kernel='rbf')\n",
    "model_support_vector_machine.fit(np.asarray(X_train_scaled), np.asarray(y_train))\n",
    "y_pred = model_support_vector_machine.predict(X_train_scaled)\n",
    "print(f\"Best support vector machine model got:\\n{precision_score(y_train, y_pred)} in precision, \")\n",
    "print(f\"{recall_score(y_train, y_pred)} in recall and\\n{f1_score(y_train, y_pred)} in f1 score\")\n"
   ]
  },
  {
   "cell_type": "markdown",
   "id": "47266e22",
   "metadata": {},
   "source": [
    "#### K-nearest Neighbors"
   ]
  },
  {
   "cell_type": "markdown",
   "id": "74e09de7",
   "metadata": {},
   "source": [
    "K-Nearest Neighbors works by looking at the samples that are closest to the one for which we want a prediction and predict the most common value among those closest samples."
   ]
  },
  {
   "cell_type": "code",
   "execution_count": 45,
   "id": "1762f035",
   "metadata": {},
   "outputs": [
    {
     "name": "stdout",
     "output_type": "stream",
     "text": [
      "Fitting 5 folds for each of 30 candidates, totalling 150 fits\n",
      "Best score of 0.8192894356914191 was achieved with parameters {'n_neighbors': 4, 'p': 1, 'weights': 'uniform'}\n"
     ]
    }
   ],
   "source": [
    "from sklearn.neighbors import KNeighborsClassifier\n",
    "\n",
    "parameters = {'n_neighbors':[3, 4, 5, 6, 7],\n",
    "              'weights':(\"uniform\", \"distance\"),\n",
    "              'p':[1, 2, 3]\n",
    "             }\n",
    "\n",
    "model_K_nearest_neighbors = GridSearchCV(KNeighborsClassifier(), parameters, verbose=1)\n",
    "model_K_nearest_neighbors.fit(np.asarray(X_train_scaled), np.asarray(y_train))\n",
    "print(f\"Best score of {model_K_nearest_neighbors.best_score_} was achieved with parameters {model_K_nearest_neighbors.best_params_}\")\n"
   ]
  },
  {
   "cell_type": "code",
   "execution_count": 46,
   "id": "ffd843f4",
   "metadata": {},
   "outputs": [
    {
     "name": "stdout",
     "output_type": "stream",
     "text": [
      "Best K-nearest neighbors model got:\n",
      "0.8494983277591973 in precision, \n",
      "0.7426900584795322 in recall and\n",
      "0.7925117004680187 in f1 score\n"
     ]
    }
   ],
   "source": [
    "model_K_nearest_neighbors = KNeighborsClassifier(n_neighbors=7, p=1, weights='uniform')\n",
    "model_K_nearest_neighbors.fit(np.asarray(X_train_scaled), np.asarray(y_train))\n",
    "y_pred = model_K_nearest_neighbors.predict(X_train_scaled)\n",
    "print(f\"Best K-nearest neighbors model got:\\n{precision_score(y_train, y_pred)} in precision, \")\n",
    "print(f\"{recall_score(y_train, y_pred)} in recall and\\n{f1_score(y_train, y_pred)} in f1 score\")\n"
   ]
  },
  {
   "cell_type": "markdown",
   "id": "a154bc77",
   "metadata": {},
   "source": [
    "#### Gaussian Naive Bayes"
   ]
  },
  {
   "cell_type": "markdown",
   "id": "47aab19b",
   "metadata": {},
   "source": [
    "(Gaussian) Naive Bayes classifiers are probabilistic classifiers based on the Bayes theorem, assuming that the features are independant, i.e. all features contribute independantly to the probability of the classification. <br />\n",
    "Note: as these classifiers are based on probabilities and not on distance, feature scaling doesn't matter. The same results are obtained wether using X_scaled or X."
   ]
  },
  {
   "cell_type": "code",
   "execution_count": 51,
   "id": "0fa935a7",
   "metadata": {},
   "outputs": [
    {
     "name": "stdout",
     "output_type": "stream",
     "text": [
      "Fitting 5 folds for each of 5 candidates, totalling 25 fits\n",
      "Best score of 0.7939318885448916 was achieved with parameters {'priors': [0.5, 0.5]}\n"
     ]
    }
   ],
   "source": [
    "from sklearn.naive_bayes import GaussianNB\n",
    "\n",
    "parameters = {'priors':[[0.5, 0.5], [0.3, 0.7], [0.7, 0.3], [0.9, 0.1], None]\n",
    "             }\n",
    "\n",
    "model_Gaussian_naive_Bayes = GridSearchCV(GaussianNB(), parameters, verbose=1)\n",
    "model_Gaussian_naive_Bayes.fit(np.asarray(X_train), np.asarray(y_train))\n",
    "print(f\"Best score of {model_Gaussian_naive_Bayes.best_score_} was achieved with parameters {model_Gaussian_naive_Bayes.best_params_}\")\n"
   ]
  },
  {
   "cell_type": "code",
   "execution_count": 52,
   "id": "b66076ee",
   "metadata": {},
   "outputs": [
    {
     "name": "stdout",
     "output_type": "stream",
     "text": [
      "Best K-nearest neighbors model got:\n",
      "0.7963636363636364 in precision, \n",
      "0.6537313432835821 in recall and\n",
      "0.7180327868852459 in f1 score\n"
     ]
    }
   ],
   "source": [
    "model_Gaussian_naive_Bayes = GaussianNB(priors = [0.7, 0.3])\n",
    "model_Gaussian_naive_Bayes.fit(np.asarray(X_train), np.asarray(y_train))\n",
    "y_pred = model_Gaussian_naive_Bayes.predict(X_train)\n",
    "print(f\"Best K-nearest neighbors model got:\\n{precision_score(y_train, y_pred)} in precision, \")\n",
    "print(f\"{recall_score(y_train, y_pred)} in recall and\\n{f1_score(y_train, y_pred)} in f1 score\")\n"
   ]
  },
  {
   "cell_type": "markdown",
   "id": "558721ac",
   "metadata": {},
   "source": [
    "#### Linear Perceptron"
   ]
  },
  {
   "cell_type": "markdown",
   "id": "ff8be672",
   "metadata": {},
   "source": [
    "The perceptron is a very basic binary classifier. It gives some weight to each feature and returns, as output the linear combination of these features. It is the basis of more interesting classifiers like MLP."
   ]
  },
  {
   "cell_type": "code",
   "execution_count": 88,
   "id": "1110f4da",
   "metadata": {},
   "outputs": [
    {
     "name": "stdout",
     "output_type": "stream",
     "text": [
      "Fitting 5 folds for each of 9 candidates, totalling 45 fits\n",
      "Best score of 0.771156863975896 was achieved with parameters {'alpha': 0.0001, 'penalty': 'l1'}\n"
     ]
    }
   ],
   "source": [
    "from sklearn.linear_model import Perceptron\n",
    "\n",
    "parameters = {'penalty':('l2', 'l1', 'elasticnet'),\n",
    "              'alpha':[0.0001, 0.001, 0.01],\n",
    "             }\n",
    "\n",
    "model_Perceptron = GridSearchCV(Perceptron(), parameters, verbose=1)\n",
    "model_Perceptron.fit(np.asarray(X_train_scaled), np.asarray(y_train))\n",
    "print(f\"Best score of {model_Perceptron.best_score_} was achieved with parameters {model_Perceptron.best_params_}\")\n"
   ]
  },
  {
   "cell_type": "code",
   "execution_count": 94,
   "id": "a45e09c2",
   "metadata": {},
   "outputs": [
    {
     "name": "stdout",
     "output_type": "stream",
     "text": [
      "Best K-nearest neighbors model got:\n",
      "0.6977329974811083 in precision, \n",
      "0.8099415204678363 in recall and\n",
      "0.7496617050067659 in f1 score\n"
     ]
    }
   ],
   "source": [
    "model_Perceptron = Perceptron(penalty='l1', alpha=0.0001)\n",
    "model_Perceptron.fit(np.asarray(X_train_scaled), np.asarray(y_train))\n",
    "y_pred = model_Perceptron.predict(X_train_scaled)\n",
    "print(f\"Best K-nearest neighbors model got:\\n{precision_score(y_train, y_pred)} in precision, \")\n",
    "print(f\"{recall_score(y_train, y_pred)} in recall and\\n{f1_score(y_train, y_pred)} in f1 score\")"
   ]
  },
  {
   "cell_type": "markdown",
   "id": "9d08eab9",
   "metadata": {},
   "source": [
    "#### Decision tree"
   ]
  },
  {
   "cell_type": "markdown",
   "id": "882f74b8",
   "metadata": {},
   "source": [
    "A decision tree classifier is exactly what it hints at. In the training phase, a decision tree is built, using some criterion (like information gain) to find the best split (the one that separates best the data). <br />\n",
    "This is the basis of *forest* classifier, which combines decision trees. <br />\n",
    "Note: scaling the data is not necessary for decision trees."
   ]
  },
  {
   "cell_type": "code",
   "execution_count": 101,
   "id": "4c4b9963",
   "metadata": {},
   "outputs": [
    {
     "name": "stdout",
     "output_type": "stream",
     "text": [
      "Fitting 5 folds for each of 72 candidates, totalling 360 fits\n",
      "Best score of 0.8103257799259307 was achieved with parameters {'criterion': 'entropy', 'max_depth': 5, 'max_features': None, 'splitter': 'random'}\n"
     ]
    }
   ],
   "source": [
    "from sklearn.tree import DecisionTreeClassifier\n",
    "\n",
    "parameters = {'criterion':(\"gini\", \"entropy\", \"log_loss\"),\n",
    "              'splitter':(\"best\", \"random\"),\n",
    "              'max_depth':[None, 3, 4, 5],\n",
    "              'max_features':(None, \"sqrt\", \"log2\")\n",
    "             }\n",
    "\n",
    "model_decision_tree = GridSearchCV(DecisionTreeClassifier(), parameters, verbose=1)\n",
    "model_decision_tree.fit(np.asarray(X_train), np.asarray(y_train))\n",
    "print(f\"Best score of {model_decision_tree.best_score_} was achieved with parameters {model_decision_tree.best_params_}\")\n"
   ]
  },
  {
   "cell_type": "code",
   "execution_count": 104,
   "id": "b1a37b69",
   "metadata": {},
   "outputs": [
    {
     "name": "stdout",
     "output_type": "stream",
     "text": [
      "Best K-nearest neighbors model got:\n",
      "0.9033613445378151 in precision, \n",
      "0.6286549707602339 in recall and\n",
      "0.7413793103448276 in f1 score\n"
     ]
    }
   ],
   "source": [
    "model_decision_tree = DecisionTreeClassifier(criterion=\"gini\", max_depth=5, splitter=\"random\")\n",
    "model_decision_tree.fit(np.asarray(X_train), np.asarray(y_train))\n",
    "y_pred = model_decision_tree.predict(X_train)\n",
    "print(f\"Best K-nearest neighbors model got:\\n{precision_score(y_train, y_pred)} in precision, \")\n",
    "print(f\"{recall_score(y_train, y_pred)} in recall and\\n{f1_score(y_train, y_pred)} in f1 score\")\n"
   ]
  },
  {
   "cell_type": "markdown",
   "id": "6fa9f3c3",
   "metadata": {},
   "source": [
    "#### Random forest"
   ]
  },
  {
   "cell_type": "markdown",
   "id": "11fce7a2",
   "metadata": {},
   "source": [
    "Random forest classifiers are the most common type of *forest* classifiers. They build trees using subsets of the whole data. Then, for the prediction, they use a majority voting on the result of each tree in the forest. <br />\n",
    "Note: scaling the data is not necessary for random forest."
   ]
  },
  {
   "cell_type": "code",
   "execution_count": 110,
   "id": "2255ef5f",
   "metadata": {},
   "outputs": [
    {
     "name": "stdout",
     "output_type": "stream",
     "text": [
      "Fitting 5 folds for each of 36 candidates, totalling 180 fits\n",
      "Best score of 0.8237900947837551 was achieved with parameters {'criterion': 'entropy', 'max_depth': 5, 'max_features': None, 'n_estimators': 50}\n"
     ]
    }
   ],
   "source": [
    "from sklearn.ensemble import RandomForestClassifier\n",
    "\n",
    "parameters = {'n_estimators':[50, 100],\n",
    "              'criterion':(\"gini\", \"entropy\"),\n",
    "              'max_depth':[None, 4, 5],\n",
    "              'max_features':(None, \"sqrt\", \"log2\")\n",
    "             }\n",
    "\n",
    "model_random_forest = GridSearchCV(RandomForestClassifier(), parameters, verbose=1)\n",
    "model_random_forest.fit(np.asarray(X_train), np.asarray(y_train))\n",
    "print(f\"Best score of {model_random_forest.best_score_} was achieved with parameters {model_random_forest.best_params_}\")\n",
    "\n"
   ]
  },
  {
   "cell_type": "code",
   "execution_count": 111,
   "id": "e6c631f3",
   "metadata": {},
   "outputs": [
    {
     "name": "stdout",
     "output_type": "stream",
     "text": [
      "Best K-nearest neighbors model got:\n",
      "0.8857142857142857 in precision, \n",
      "0.7251461988304093 in recall and\n",
      "0.7974276527331189 in f1 score\n"
     ]
    }
   ],
   "source": [
    "model_random_forest = RandomForestClassifier(n_estimators=50, criterion=\"entropy\", max_depth=5, max_features=None)\n",
    "model_random_forest.fit(np.asarray(X_train), np.asarray(y_train))\n",
    "y_pred = model_random_forest.predict(X_train)\n",
    "print(f\"Best K-nearest neighbors model got:\\n{precision_score(y_train, y_pred)} in precision, \")\n",
    "print(f\"{recall_score(y_train, y_pred)} in recall and\\n{f1_score(y_train, y_pred)} in f1 score\")\n"
   ]
  },
  {
   "cell_type": "markdown",
   "id": "24b33203",
   "metadata": {},
   "source": [
    "There are more classification algorithms to investigate. I might add some here in the future."
   ]
  },
  {
   "cell_type": "code",
   "execution_count": null,
   "id": "63ac9633",
   "metadata": {},
   "outputs": [],
   "source": []
  }
 ],
 "metadata": {
  "kernelspec": {
   "display_name": "Python 3 (ipykernel)",
   "language": "python",
   "name": "python3"
  },
  "language_info": {
   "codemirror_mode": {
    "name": "ipython",
    "version": 3
   },
   "file_extension": ".py",
   "mimetype": "text/x-python",
   "name": "python",
   "nbconvert_exporter": "python",
   "pygments_lexer": "ipython3",
   "version": "3.9.7"
  }
 },
 "nbformat": 4,
 "nbformat_minor": 5
}
